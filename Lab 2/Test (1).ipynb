{
  "nbformat": 4,
  "nbformat_minor": 0,
  "metadata": {
    "colab": {
      "name": "Test.ipynb",
      "provenance": [],
      "collapsed_sections": []
    },
    "kernelspec": {
      "name": "python3",
      "display_name": "Python 3"
    },
    "language_info": {
      "name": "python"
    },
    "accelerator": "GPU"
  },
  "cells": [
    {
      "cell_type": "code",
      "execution_count": null,
      "metadata": {
        "colab": {
          "base_uri": "https://localhost:8080/"
        },
        "id": "knLIzlVJy5xm",
        "outputId": "60b48640-45e8-4fdf-f335-2e91437dbfe1"
      },
      "outputs": [
        {
          "output_type": "stream",
          "name": "stdout",
          "text": [
            "Show System RAM Memory:\n",
            "\n",
            "\n",
            "MemTotal:       13302920 kB\n",
            "\n",
            "\n",
            "Show Devices:\n",
            "\n",
            "[name: \"/device:CPU:0\"\n",
            "device_type: \"CPU\"\n",
            "memory_limit: 268435456\n",
            "locality {\n",
            "}\n",
            "incarnation: 16547341160210465649\n",
            "xla_global_id: -1\n",
            ", name: \"/device:GPU:0\"\n",
            "device_type: \"GPU\"\n",
            "memory_limit: 11320098816\n",
            "locality {\n",
            "  bus_id: 1\n",
            "  links {\n",
            "  }\n",
            "}\n",
            "incarnation: 2411453900885105868\n",
            "physical_device_desc: \"device: 0, name: Tesla K80, pci bus id: 0000:00:04.0, compute capability: 3.7\"\n",
            "xla_global_id: 416903419\n",
            "]\n"
          ]
        }
      ],
      "source": [
        "from tensorflow.python.client import device_lib \n",
        "\n",
        "print(\"Show System RAM Memory:\\n\\n\") \n",
        "\n",
        "!cat /proc/meminfo | egrep \"MemTotal*\" \n",
        "\n",
        "print(\"\\n\\nShow Devices:\\n\\n\"+str(device_lib.list_local_devices()))"
      ]
    },
    {
      "cell_type": "code",
      "source": [
        ""
      ],
      "metadata": {
        "id": "EwK0RHw5cv66"
      },
      "execution_count": null,
      "outputs": []
    },
    {
      "cell_type": "code",
      "source": [
        "from google.colab import drive \n",
        "\n",
        "drive.mount('/content/gdrive')"
      ],
      "metadata": {
        "colab": {
          "base_uri": "https://localhost:8080/"
        },
        "id": "XzvWv9jQ0rBH",
        "outputId": "31845aae-5ef3-471c-b328-3543e8128c2d"
      },
      "execution_count": null,
      "outputs": [
        {
          "output_type": "stream",
          "name": "stdout",
          "text": [
            "Mounted at /content/gdrive\n"
          ]
        }
      ]
    },
    {
      "cell_type": "code",
      "source": [
        "import time \n",
        "\n",
        "start = time.time() \n",
        "\n",
        "!python3 \"/content/gdrive/MyDrive/ANLY 535/mnist_cnn.py\" \n",
        "\n",
        "end = time.time() \n",
        "\n",
        "print(end - start)\n",
        "\n",
        "#"
      ],
      "metadata": {
        "colab": {
          "base_uri": "https://localhost:8080/"
        },
        "id": "Rw-7lr5n0rJK",
        "outputId": "6c558edf-408a-4db1-c216-e0dc2083ca6a"
      },
      "execution_count": null,
      "outputs": [
        {
          "output_type": "stream",
          "name": "stdout",
          "text": [
            "Downloading data from https://storage.googleapis.com/tensorflow/tf-keras-datasets/mnist.npz\n",
            "11493376/11490434 [==============================] - 0s 0us/step\n",
            "11501568/11490434 [==============================] - 0s 0us/step\n",
            "x_train shape: (60000, 28, 28, 1)\n",
            "60000 train samples\n",
            "10000 test samples\n",
            "2022-01-30 18:59:06.033399: W tensorflow/core/common_runtime/gpu/gpu_bfc_allocator.cc:39] Overriding allow_growth setting because the TF_FORCE_GPU_ALLOW_GROWTH environment variable is set. Original config value was 0.\n",
            "Epoch 1/12\n",
            "375/375 [==============================] - 15s 16ms/step - loss: 0.2648 - accuracy: 0.9211 - val_loss: 0.0688 - val_accuracy: 0.9800\n",
            "Epoch 2/12\n",
            "375/375 [==============================] - 6s 16ms/step - loss: 0.0927 - accuracy: 0.9723 - val_loss: 0.0494 - val_accuracy: 0.9858\n",
            "Epoch 3/12\n",
            "375/375 [==============================] - 6s 15ms/step - loss: 0.0672 - accuracy: 0.9789 - val_loss: 0.0454 - val_accuracy: 0.9868\n",
            "Epoch 4/12\n",
            "375/375 [==============================] - 6s 15ms/step - loss: 0.0530 - accuracy: 0.9842 - val_loss: 0.0435 - val_accuracy: 0.9875\n",
            "Epoch 5/12\n",
            "375/375 [==============================] - 6s 16ms/step - loss: 0.0490 - accuracy: 0.9845 - val_loss: 0.0403 - val_accuracy: 0.9895\n",
            "Epoch 6/12\n",
            "375/375 [==============================] - 6s 16ms/step - loss: 0.0380 - accuracy: 0.9877 - val_loss: 0.0424 - val_accuracy: 0.9891\n",
            "Epoch 7/12\n",
            "375/375 [==============================] - 6s 15ms/step - loss: 0.0358 - accuracy: 0.9883 - val_loss: 0.0381 - val_accuracy: 0.9893\n",
            "Epoch 8/12\n",
            "375/375 [==============================] - 6s 15ms/step - loss: 0.0306 - accuracy: 0.9896 - val_loss: 0.0386 - val_accuracy: 0.9890\n",
            "Epoch 9/12\n",
            "375/375 [==============================] - 6s 15ms/step - loss: 0.0304 - accuracy: 0.9898 - val_loss: 0.0371 - val_accuracy: 0.9907\n",
            "Epoch 10/12\n",
            "375/375 [==============================] - 6s 16ms/step - loss: 0.0263 - accuracy: 0.9913 - val_loss: 0.0368 - val_accuracy: 0.9906\n",
            "Epoch 11/12\n",
            "375/375 [==============================] - 6s 16ms/step - loss: 0.0248 - accuracy: 0.9915 - val_loss: 0.0368 - val_accuracy: 0.9906\n",
            "Epoch 12/12\n",
            "375/375 [==============================] - 6s 16ms/step - loss: 0.0226 - accuracy: 0.9923 - val_loss: 0.0368 - val_accuracy: 0.9908\n",
            "Test loss: 0.029383959248661995\n",
            "Test accuracy: 0.9911999702453613\n",
            "90.73904633522034\n"
          ]
        }
      ]
    },
    {
      "cell_type": "code",
      "source": [
        "\n",
        "import tensorflow as tf\n",
        "\n",
        "from tensorflow.keras.datasets import mnist \n",
        "\n",
        "from tensorflow.keras.models import Sequential \n",
        "\n",
        "from tensorflow.keras.layers import Dense, Dropout, Flatten \n",
        "\n",
        "from tensorflow.keras.layers import Conv2D, MaxPooling2D \n",
        "\n",
        "from tensorflow.keras import backend as K \n",
        "\n",
        "batch_size = 128 \n",
        "\n",
        "num_classes = 10 \n",
        "\n",
        "epochs = 12 \n",
        "\n",
        "# input image dimensions \n",
        "\n",
        "img_rows, img_cols = 28, 28 \n",
        "\n",
        "# the data, split between train and test sets \n",
        "\n",
        "(x_train, y_train), (x_test, y_test) = mnist.load_data()"
      ],
      "metadata": {
        "id": "aI8xaCpu5geF"
      },
      "execution_count": null,
      "outputs": []
    },
    {
      "cell_type": "code",
      "source": [
        "if K.image_data_format() == 'channels_first': \n",
        "\n",
        "  x_train = x_train.reshape(x_train.shape[0], 1, img_rows, img_cols) \n",
        "\n",
        "  x_test = x_test.reshape(x_test.shape[0], 1, img_rows, img_cols) \n",
        "\n",
        "  input_shape = (1, img_rows, img_cols) \n",
        "\n",
        "else: \n",
        "\n",
        "  x_train = x_train.reshape(x_train.shape[0], img_rows, img_cols, 1) \n",
        "\n",
        "  x_test = x_test.reshape(x_test.shape[0], img_rows, img_cols, 1) \n",
        "\n",
        "  input_shape = (img_rows, img_cols, 1)"
      ],
      "metadata": {
        "id": "F1l-vAyY5gkj"
      },
      "execution_count": null,
      "outputs": []
    },
    {
      "cell_type": "code",
      "source": [
        "x_train = x_train.astype('float32') \n",
        "\n",
        "x_test = x_test.astype('float32') \n",
        "\n",
        "x_train /= 255 \n",
        "\n",
        "x_test /= 255 \n",
        "\n",
        "print('x_train shape:', x_train.shape) \n",
        "\n",
        "print(x_train.shape[0], 'train samples') \n",
        "\n",
        "print(x_test.shape[0], 'test samples') \n",
        "\n",
        "# convert class vectors to binary class matrices \n",
        "\n",
        "y_train = tf.keras.utils.to_categorical(y_train, num_classes) \n",
        "\n",
        "y_test = tf.keras.utils.to_categorical(y_test, num_classes)"
      ],
      "metadata": {
        "colab": {
          "base_uri": "https://localhost:8080/"
        },
        "id": "RnLN-o_K0rXQ",
        "outputId": "47b19780-09ee-4842-8ad0-3ba763fd19b7"
      },
      "execution_count": null,
      "outputs": [
        {
          "output_type": "stream",
          "name": "stdout",
          "text": [
            "x_train shape: (60000, 28, 28, 1)\n",
            "60000 train samples\n",
            "10000 test samples\n"
          ]
        }
      ]
    },
    {
      "cell_type": "code",
      "source": [
        "model = Sequential()\n",
        "model.add(Conv2D(32, kernel_size=(3, 3),activation='relu',input_shape=input_shape))\n",
        "model.add(Conv2D(64, (3, 3), activation='relu'))\n",
        "model.add(MaxPooling2D(pool_size=(2, 2)))\n",
        "model.add(Dropout(0.25))\n",
        "model.add(Flatten())\n",
        "model.add(Dense(128, activation='relu'))\n",
        "model.add(Dropout(0.5))\n",
        "model.add(Dense(num_classes, activation='softmax'))\n"
      ],
      "metadata": {
        "id": "HW-oWRy26sNA"
      },
      "execution_count": null,
      "outputs": []
    },
    {
      "cell_type": "code",
      "source": [
        "#Q2- Explain the way that this model is designed. Talk about all the layers and their functionality.\n",
        "#The batch size is 128 and epochs is 12. The input data is 28 X 28 pixels. The data is split between test and training dataset. The CNN model has sequential layers, the first layer is input layer with 3 by 3 kernel size andrelu activation. Second layer is convolutional with relu activation. Third layer is a pooling layer which returns themaximum value in pool. The model has 0.25 dropout. \n",
        "#Next layer is a hidden layer. Last layer is fully connectedlayer which generates a classification output."
      ],
      "metadata": {
        "id": "BnJpOMvS6sXy"
      },
      "execution_count": null,
      "outputs": []
    },
    {
      "cell_type": "code",
      "source": [
        "\n",
        "model.compile(loss='categorical_crossentropy',optimizer='adam',metrics=['accuracy'])\n",
        "\n",
        "nn_fit = model.fit(x_train, y_train,batch_size=batch_size,epochs=epochs,verbose=2,validation_split=0.2)\n",
        "score = model.evaluate(x_test, y_test, verbose=2)\n",
        "\n",
        "print('Test loss:', score[0])\n",
        "print('Test accuracy:', score[1])"
      ],
      "metadata": {
        "id": "tAPovL4G6shU",
        "colab": {
          "base_uri": "https://localhost:8080/"
        },
        "outputId": "f33365a4-2c11-48dd-f048-bca0ae3e7fd6"
      },
      "execution_count": null,
      "outputs": [
        {
          "output_type": "stream",
          "name": "stdout",
          "text": [
            "Epoch 1/12\n",
            "375/375 - 11s - loss: 0.2646 - accuracy: 0.9185 - val_loss: 0.0631 - val_accuracy: 0.9818 - 11s/epoch - 28ms/step\n",
            "Epoch 2/12\n",
            "375/375 - 6s - loss: 0.0909 - accuracy: 0.9726 - val_loss: 0.0470 - val_accuracy: 0.9858 - 6s/epoch - 17ms/step\n",
            "Epoch 3/12\n",
            "375/375 - 6s - loss: 0.0673 - accuracy: 0.9797 - val_loss: 0.0440 - val_accuracy: 0.9868 - 6s/epoch - 15ms/step\n",
            "Epoch 4/12\n",
            "375/375 - 5s - loss: 0.0532 - accuracy: 0.9835 - val_loss: 0.0419 - val_accuracy: 0.9882 - 5s/epoch - 14ms/step\n",
            "Epoch 5/12\n",
            "375/375 - 5s - loss: 0.0448 - accuracy: 0.9865 - val_loss: 0.0450 - val_accuracy: 0.9879 - 5s/epoch - 14ms/step\n",
            "Epoch 6/12\n",
            "375/375 - 5s - loss: 0.0407 - accuracy: 0.9872 - val_loss: 0.0402 - val_accuracy: 0.9889 - 5s/epoch - 14ms/step\n",
            "Epoch 7/12\n",
            "375/375 - 5s - loss: 0.0343 - accuracy: 0.9889 - val_loss: 0.0449 - val_accuracy: 0.9868 - 5s/epoch - 14ms/step\n",
            "Epoch 8/12\n",
            "375/375 - 7s - loss: 0.0313 - accuracy: 0.9897 - val_loss: 0.0409 - val_accuracy: 0.9894 - 7s/epoch - 18ms/step\n",
            "Epoch 9/12\n",
            "375/375 - 7s - loss: 0.0271 - accuracy: 0.9914 - val_loss: 0.0368 - val_accuracy: 0.9893 - 7s/epoch - 18ms/step\n",
            "Epoch 10/12\n",
            "375/375 - 6s - loss: 0.0258 - accuracy: 0.9913 - val_loss: 0.0419 - val_accuracy: 0.9893 - 6s/epoch - 16ms/step\n",
            "Epoch 11/12\n",
            "375/375 - 6s - loss: 0.0235 - accuracy: 0.9921 - val_loss: 0.0412 - val_accuracy: 0.9901 - 6s/epoch - 15ms/step\n",
            "Epoch 12/12\n",
            "375/375 - 6s - loss: 0.0222 - accuracy: 0.9925 - val_loss: 0.0411 - val_accuracy: 0.9904 - 6s/epoch - 16ms/step\n",
            "313/313 - 1s - loss: 0.0295 - accuracy: 0.9919 - 1s/epoch - 4ms/step\n",
            "Test loss: 0.02948959358036518\n",
            "Test accuracy: 0.9919000267982483\n"
          ]
        }
      ]
    },
    {
      "cell_type": "code",
      "source": [
        "#Q3- Design the learning curve and talk about what you see.\n",
        "\n",
        "scores = model.evaluate(x_test, y_test, verbose=2)\n",
        "\n",
        "print(\"Baseline Error: %.2f%%\" % (100-scores[1]*100))\n",
        "print(\"Baseline Accuracy: %.2f%%\" % (scores[1]*100))\n"
      ],
      "metadata": {
        "id": "f1Vp56Y96sr9",
        "colab": {
          "base_uri": "https://localhost:8080/"
        },
        "outputId": "f40d06d8-f875-4a05-f4e3-93b2dea6d53c"
      },
      "execution_count": null,
      "outputs": [
        {
          "output_type": "stream",
          "name": "stdout",
          "text": [
            "313/313 - 1s - loss: 0.0295 - accuracy: 0.9919 - 1s/epoch - 5ms/step\n",
            "Baseline Error: 0.81%\n",
            "Baseline Accuracy: 99.19%\n"
          ]
        }
      ]
    },
    {
      "cell_type": "code",
      "source": [
        "import matplotlib.pyplot as plt\n",
        "plt.subplot(2,1,1)\n",
        "plt.plot(nn_fit.history['accuracy'])\n",
        "plt.plot(nn_fit.history['val_accuracy'])\n",
        "plt.title('model accuracy')\n",
        "plt.ylabel('accuracy')\n",
        "plt.xlabel('epoch')\n",
        "plt.legend(['train', 'test'], loc='lower right')\n",
        "plt.subplot(2,1,2)\n",
        "plt.plot(nn_fit.history['loss'])\n",
        "plt.plot(nn_fit.history['val_loss'])\n",
        "plt.title('model loss')\n",
        "plt.ylabel('loss')\n",
        "plt.xlabel('epoch')\n",
        "plt.legend(['train', 'test'], loc='upper right')\n",
        "plt.show()\n",
        "\n",
        "#The first graph shows the model accuracy of each epoch, the second graph shows the model loss for eachepoch. Training data is more accurate than test data."
      ],
      "metadata": {
        "colab": {
          "base_uri": "https://localhost:8080/",
          "height": 295
        },
        "id": "BMwTVmm8aQRh",
        "outputId": "dfbb3551-2195-441b-d823-bf115274dfee"
      },
      "execution_count": null,
      "outputs": [
        {
          "output_type": "display_data",
          "data": {
            "image/png": "[encoded data removed]",
            "text/plain": [
              "<Figure size 432x288 with 2 Axes>"
            ]
          },
          "metadata": {
            "needs_background": "light"
          }
        }
      ]
    },
    {
      "cell_type": "code",
      "source": [
        "import pandas as pd\n",
        "df = pd.read_csv('/content/gdrive/MyDrive/ANLY 535/amazon_cells_labelled.txt',names=['sentence', 'label'], sep='\\t')"
      ],
      "metadata": {
        "id": "S2DB8yP8aQns"
      },
      "execution_count": 18,
      "outputs": []
    },
    {
      "cell_type": "code",
      "source": [
        "print\n",
        "(\n",
        "df.iloc[0])"
      ],
      "metadata": {
        "id": "zEL19-kyaQrc",
        "colab": {
          "base_uri": "https://localhost:8080/"
        },
        "outputId": "bb2dfd69-e445-4d60-bb6b-455b618a996c"
      },
      "execution_count": 19,
      "outputs": [
        {
          "output_type": "execute_result",
          "data": {
            "text/plain": [
              "sentence    So there is no way for me to plug it in here i...\n",
              "label                                                       0\n",
              "Name: 0, dtype: object"
            ]
          },
          "metadata": {},
          "execution_count": 19
        }
      ]
    },
    {
      "cell_type": "code",
      "source": [
        "sentences = ['John likes ice cream', 'John hates chocolate.']"
      ],
      "metadata": {
        "id": "pKizyo1-aQua"
      },
      "execution_count": 20,
      "outputs": []
    },
    {
      "cell_type": "code",
      "source": [
        "from sklearn.feature_extraction.text import CountVectorizer\n",
        "vectorizer = CountVectorizer(min_df=0, lowercase=False)\n",
        "vectorizer.fit(sentences)\n",
        "vectorizer.vocabulary_\n"
      ],
      "metadata": {
        "id": "eiQJeielaQxv",
        "colab": {
          "base_uri": "https://localhost:8080/"
        },
        "outputId": "a3418c6a-cb3d-446f-ca59-669044937f3a"
      },
      "execution_count": 23,
      "outputs": [
        {
          "output_type": "execute_result",
          "data": {
            "text/plain": [
              "{'John': 0, 'chocolate': 1, 'cream': 2, 'hates': 3, 'ice': 4, 'likes': 5}"
            ]
          },
          "metadata": {},
          "execution_count": 23
        }
      ]
    },
    {
      "cell_type": "code",
      "source": [
        "vectorizer.transform(sentences).toarray()"
      ],
      "metadata": {
        "id": "WLFRSLPAaQ1O",
        "colab": {
          "base_uri": "https://localhost:8080/"
        },
        "outputId": "e2bc8838-9ac8-4d41-86f9-c2435a009c84"
      },
      "execution_count": 24,
      "outputs": [
        {
          "output_type": "execute_result",
          "data": {
            "text/plain": [
              "array([[1, 0, 1, 0, 1, 1],\n",
              "       [1, 1, 0, 1, 0, 0]])"
            ]
          },
          "metadata": {},
          "execution_count": 24
        }
      ]
    },
    {
      "cell_type": "code",
      "source": [
        "from sklearn.model_selection import train_test_split\n",
        "sentences = df['sentence'].values\n",
        "y = df['label'].values\n",
        "sentences_train, sentences_test, y_train, y_test = train_test_split(sentences, y, test_size=0.25, random_state=1000)\n",
        "\n"
      ],
      "metadata": {
        "id": "hSC-_LIfqg1A"
      },
      "execution_count": 25,
      "outputs": []
    },
    {
      "cell_type": "code",
      "source": [
        "from sklearn.feature_extraction.text import CountVectorizer\n",
        "vectorizer = CountVectorizer()\n",
        "vectorizer.fit(sentences_train)\n",
        "X_train = vectorizer.transform(sentences_train)\n",
        "X_test = vectorizer.transform(sentences_test)\n",
        "X_train"
      ],
      "metadata": {
        "colab": {
          "base_uri": "https://localhost:8080/"
        },
        "id": "-7m9co3Kqg9O",
        "outputId": "f00f690a-3799-4bf0-ab34-ff4994f73ede"
      },
      "execution_count": 26,
      "outputs": [
        {
          "output_type": "execute_result",
          "data": {
            "text/plain": [
              "<750x1546 sparse matrix of type '<class 'numpy.int64'>'\n",
              "\twith 6817 stored elements in Compressed Sparse Row format>"
            ]
          },
          "metadata": {},
          "execution_count": 26
        }
      ]
    },
    {
      "cell_type": "code",
      "source": [
        "from sklearn.linear_model import LogisticRegression\n",
        "classifier = LogisticRegression()\n",
        "classifier.fit(X_train, y_train)\n",
        "score = classifier.score(X_test, y_test)\n",
        "print(\"Accuracy:\", score)"
      ],
      "metadata": {
        "colab": {
          "base_uri": "https://localhost:8080/"
        },
        "id": "m5IYD-McqhCb",
        "outputId": "700ac7fc-aff9-4a15-d17a-1e9480a18d3c"
      },
      "execution_count": 27,
      "outputs": [
        {
          "output_type": "stream",
          "name": "stdout",
          "text": [
            "Accuracy: 0.796\n"
          ]
        }
      ]
    },
    {
      "cell_type": "code",
      "source": [
        "\n",
        "X_train = vectorizer.transform(sentences_train).toarray()\n",
        "X_test = vectorizer.transform(sentences_test).toarray()\n",
        "from tensorflow.keras.models import Sequential\n",
        "from tensorflow.keras import layers\n",
        "input_dim = X_train.shape[1] # Number of features\n",
        "model = Sequential()\n",
        "model.add(layers.Dense(10, input_dim=input_dim, activation='relu'))\n",
        "model.add(layers.Dense(1, activation='sigmoid'))\n",
        "model.compile(loss='binary_crossentropy', optimizer='adam',metrics=['accuracy'])\n",
        "hist = model.fit(X_train, y_train, epochs=100, validation_split=0.2 ,batch_size=10)\n",
        "loss, accuracy = model.evaluate(X_test, y_test, verbose=False)\n",
        "print(\"Test Accuracy: \",accuracy*100)"
      ],
      "metadata": {
        "colab": {
          "base_uri": "https://localhost:8080/"
        },
        "id": "c6m-MEWDrLrC",
        "outputId": "a1061f5f-268f-471c-c19a-6def42a199df"
      },
      "execution_count": 30,
      "outputs": [
        {
          "output_type": "stream",
          "name": "stdout",
          "text": [
            "Epoch 1/100\n",
            "60/60 [==============================] - 1s 7ms/step - loss: 0.6846 - accuracy: 0.5917 - val_loss: 0.6744 - val_accuracy: 0.7000\n",
            "Epoch 2/100\n",
            "60/60 [==============================] - 0s 4ms/step - loss: 0.6398 - accuracy: 0.8317 - val_loss: 0.6450 - val_accuracy: 0.7800\n",
            "Epoch 3/100\n",
            "60/60 [==============================] - 0s 4ms/step - loss: 0.5722 - accuracy: 0.9017 - val_loss: 0.6000 - val_accuracy: 0.8133\n",
            "Epoch 4/100\n",
            "60/60 [==============================] - 0s 4ms/step - loss: 0.4835 - accuracy: 0.9433 - val_loss: 0.5484 - val_accuracy: 0.8267\n",
            "Epoch 5/100\n",
            "60/60 [==============================] - 0s 4ms/step - loss: 0.3925 - accuracy: 0.9583 - val_loss: 0.5046 - val_accuracy: 0.8400\n",
            "Epoch 6/100\n",
            "60/60 [==============================] - 0s 4ms/step - loss: 0.3141 - accuracy: 0.9733 - val_loss: 0.4710 - val_accuracy: 0.8400\n",
            "Epoch 7/100\n",
            "60/60 [==============================] - 0s 5ms/step - loss: 0.2519 - accuracy: 0.9783 - val_loss: 0.4447 - val_accuracy: 0.8467\n",
            "Epoch 8/100\n",
            "60/60 [==============================] - 0s 6ms/step - loss: 0.2036 - accuracy: 0.9900 - val_loss: 0.4251 - val_accuracy: 0.8533\n",
            "Epoch 9/100\n",
            "60/60 [==============================] - 0s 7ms/step - loss: 0.1663 - accuracy: 0.9900 - val_loss: 0.4133 - val_accuracy: 0.8533\n",
            "Epoch 10/100\n",
            "60/60 [==============================] - 0s 7ms/step - loss: 0.1377 - accuracy: 0.9967 - val_loss: 0.4042 - val_accuracy: 0.8600\n",
            "Epoch 11/100\n",
            "60/60 [==============================] - 1s 9ms/step - loss: 0.1147 - accuracy: 0.9967 - val_loss: 0.3963 - val_accuracy: 0.8600\n",
            "Epoch 12/100\n",
            "60/60 [==============================] - 1s 9ms/step - loss: 0.0968 - accuracy: 0.9983 - val_loss: 0.3914 - val_accuracy: 0.8533\n",
            "Epoch 13/100\n",
            "60/60 [==============================] - 0s 7ms/step - loss: 0.0824 - accuracy: 0.9983 - val_loss: 0.3910 - val_accuracy: 0.8533\n",
            "Epoch 14/100\n",
            "60/60 [==============================] - 0s 7ms/step - loss: 0.0708 - accuracy: 1.0000 - val_loss: 0.3886 - val_accuracy: 0.8600\n",
            "Epoch 15/100\n",
            "60/60 [==============================] - 0s 7ms/step - loss: 0.0613 - accuracy: 1.0000 - val_loss: 0.3884 - val_accuracy: 0.8600\n",
            "Epoch 16/100\n",
            "60/60 [==============================] - 0s 8ms/step - loss: 0.0534 - accuracy: 1.0000 - val_loss: 0.3872 - val_accuracy: 0.8600\n",
            "Epoch 17/100\n",
            "60/60 [==============================] - 1s 8ms/step - loss: 0.0469 - accuracy: 1.0000 - val_loss: 0.3887 - val_accuracy: 0.8467\n",
            "Epoch 18/100\n",
            "60/60 [==============================] - 0s 8ms/step - loss: 0.0412 - accuracy: 1.0000 - val_loss: 0.3897 - val_accuracy: 0.8467\n",
            "Epoch 19/100\n",
            "60/60 [==============================] - 0s 7ms/step - loss: 0.0365 - accuracy: 1.0000 - val_loss: 0.3919 - val_accuracy: 0.8467\n",
            "Epoch 20/100\n",
            "60/60 [==============================] - 0s 8ms/step - loss: 0.0325 - accuracy: 1.0000 - val_loss: 0.3935 - val_accuracy: 0.8467\n",
            "Epoch 21/100\n",
            "60/60 [==============================] - 0s 8ms/step - loss: 0.0291 - accuracy: 1.0000 - val_loss: 0.3954 - val_accuracy: 0.8467\n",
            "Epoch 22/100\n",
            "60/60 [==============================] - 0s 6ms/step - loss: 0.0261 - accuracy: 1.0000 - val_loss: 0.3971 - val_accuracy: 0.8467\n",
            "Epoch 23/100\n",
            "60/60 [==============================] - 0s 7ms/step - loss: 0.0235 - accuracy: 1.0000 - val_loss: 0.3998 - val_accuracy: 0.8467\n",
            "Epoch 24/100\n",
            "60/60 [==============================] - 0s 8ms/step - loss: 0.0213 - accuracy: 1.0000 - val_loss: 0.4016 - val_accuracy: 0.8533\n",
            "Epoch 25/100\n",
            "60/60 [==============================] - 1s 10ms/step - loss: 0.0193 - accuracy: 1.0000 - val_loss: 0.4048 - val_accuracy: 0.8467\n",
            "Epoch 26/100\n",
            "60/60 [==============================] - 1s 9ms/step - loss: 0.0176 - accuracy: 1.0000 - val_loss: 0.4071 - val_accuracy: 0.8467\n",
            "Epoch 27/100\n",
            "60/60 [==============================] - 0s 7ms/step - loss: 0.0161 - accuracy: 1.0000 - val_loss: 0.4092 - val_accuracy: 0.8467\n",
            "Epoch 28/100\n",
            "60/60 [==============================] - 0s 8ms/step - loss: 0.0147 - accuracy: 1.0000 - val_loss: 0.4119 - val_accuracy: 0.8467\n",
            "Epoch 29/100\n",
            "60/60 [==============================] - 1s 9ms/step - loss: 0.0135 - accuracy: 1.0000 - val_loss: 0.4148 - val_accuracy: 0.8467\n",
            "Epoch 30/100\n",
            "60/60 [==============================] - 0s 8ms/step - loss: 0.0124 - accuracy: 1.0000 - val_loss: 0.4176 - val_accuracy: 0.8467\n",
            "Epoch 31/100\n",
            "60/60 [==============================] - 0s 8ms/step - loss: 0.0115 - accuracy: 1.0000 - val_loss: 0.4201 - val_accuracy: 0.8533\n",
            "Epoch 32/100\n",
            "60/60 [==============================] - 0s 7ms/step - loss: 0.0106 - accuracy: 1.0000 - val_loss: 0.4230 - val_accuracy: 0.8600\n",
            "Epoch 33/100\n",
            "60/60 [==============================] - 1s 10ms/step - loss: 0.0098 - accuracy: 1.0000 - val_loss: 0.4243 - val_accuracy: 0.8600\n",
            "Epoch 34/100\n",
            "60/60 [==============================] - 0s 7ms/step - loss: 0.0091 - accuracy: 1.0000 - val_loss: 0.4273 - val_accuracy: 0.8600\n",
            "Epoch 35/100\n",
            "60/60 [==============================] - 0s 7ms/step - loss: 0.0084 - accuracy: 1.0000 - val_loss: 0.4311 - val_accuracy: 0.8600\n",
            "Epoch 36/100\n",
            "60/60 [==============================] - 0s 7ms/step - loss: 0.0079 - accuracy: 1.0000 - val_loss: 0.4330 - val_accuracy: 0.8600\n",
            "Epoch 37/100\n",
            "60/60 [==============================] - 0s 6ms/step - loss: 0.0073 - accuracy: 1.0000 - val_loss: 0.4358 - val_accuracy: 0.8600\n",
            "Epoch 38/100\n",
            "60/60 [==============================] - 0s 4ms/step - loss: 0.0069 - accuracy: 1.0000 - val_loss: 0.4387 - val_accuracy: 0.8600\n",
            "Epoch 39/100\n",
            "60/60 [==============================] - 0s 4ms/step - loss: 0.0064 - accuracy: 1.0000 - val_loss: 0.4413 - val_accuracy: 0.8600\n",
            "Epoch 40/100\n",
            "60/60 [==============================] - 0s 4ms/step - loss: 0.0060 - accuracy: 1.0000 - val_loss: 0.4442 - val_accuracy: 0.8600\n",
            "Epoch 41/100\n",
            "60/60 [==============================] - 0s 4ms/step - loss: 0.0056 - accuracy: 1.0000 - val_loss: 0.4461 - val_accuracy: 0.8600\n",
            "Epoch 42/100\n",
            "60/60 [==============================] - 0s 4ms/step - loss: 0.0053 - accuracy: 1.0000 - val_loss: 0.4483 - val_accuracy: 0.8600\n",
            "Epoch 43/100\n",
            "60/60 [==============================] - 0s 4ms/step - loss: 0.0050 - accuracy: 1.0000 - val_loss: 0.4506 - val_accuracy: 0.8600\n",
            "Epoch 44/100\n",
            "60/60 [==============================] - 0s 4ms/step - loss: 0.0047 - accuracy: 1.0000 - val_loss: 0.4536 - val_accuracy: 0.8533\n",
            "Epoch 45/100\n",
            "60/60 [==============================] - 0s 4ms/step - loss: 0.0044 - accuracy: 1.0000 - val_loss: 0.4561 - val_accuracy: 0.8600\n",
            "Epoch 46/100\n",
            "60/60 [==============================] - 0s 4ms/step - loss: 0.0041 - accuracy: 1.0000 - val_loss: 0.4581 - val_accuracy: 0.8600\n",
            "Epoch 47/100\n",
            "60/60 [==============================] - 0s 5ms/step - loss: 0.0039 - accuracy: 1.0000 - val_loss: 0.4601 - val_accuracy: 0.8600\n",
            "Epoch 48/100\n",
            "60/60 [==============================] - 0s 4ms/step - loss: 0.0037 - accuracy: 1.0000 - val_loss: 0.4632 - val_accuracy: 0.8600\n",
            "Epoch 49/100\n",
            "60/60 [==============================] - 0s 4ms/step - loss: 0.0035 - accuracy: 1.0000 - val_loss: 0.4655 - val_accuracy: 0.8533\n",
            "Epoch 50/100\n",
            "60/60 [==============================] - 0s 4ms/step - loss: 0.0033 - accuracy: 1.0000 - val_loss: 0.4671 - val_accuracy: 0.8600\n",
            "Epoch 51/100\n",
            "60/60 [==============================] - 0s 5ms/step - loss: 0.0031 - accuracy: 1.0000 - val_loss: 0.4709 - val_accuracy: 0.8533\n",
            "Epoch 52/100\n",
            "60/60 [==============================] - 0s 4ms/step - loss: 0.0030 - accuracy: 1.0000 - val_loss: 0.4716 - val_accuracy: 0.8533\n",
            "Epoch 53/100\n",
            "60/60 [==============================] - 0s 4ms/step - loss: 0.0028 - accuracy: 1.0000 - val_loss: 0.4744 - val_accuracy: 0.8600\n",
            "Epoch 54/100\n",
            "60/60 [==============================] - 0s 6ms/step - loss: 0.0027 - accuracy: 1.0000 - val_loss: 0.4770 - val_accuracy: 0.8533\n",
            "Epoch 55/100\n",
            "60/60 [==============================] - 0s 7ms/step - loss: 0.0025 - accuracy: 1.0000 - val_loss: 0.4788 - val_accuracy: 0.8533\n",
            "Epoch 56/100\n",
            "60/60 [==============================] - 0s 5ms/step - loss: 0.0024 - accuracy: 1.0000 - val_loss: 0.4818 - val_accuracy: 0.8533\n",
            "Epoch 57/100\n",
            "60/60 [==============================] - 0s 4ms/step - loss: 0.0023 - accuracy: 1.0000 - val_loss: 0.4842 - val_accuracy: 0.8533\n",
            "Epoch 58/100\n",
            "60/60 [==============================] - 0s 4ms/step - loss: 0.0022 - accuracy: 1.0000 - val_loss: 0.4857 - val_accuracy: 0.8600\n",
            "Epoch 59/100\n",
            "60/60 [==============================] - 0s 4ms/step - loss: 0.0021 - accuracy: 1.0000 - val_loss: 0.4877 - val_accuracy: 0.8600\n",
            "Epoch 60/100\n",
            "60/60 [==============================] - 0s 4ms/step - loss: 0.0020 - accuracy: 1.0000 - val_loss: 0.4903 - val_accuracy: 0.8600\n",
            "Epoch 61/100\n",
            "60/60 [==============================] - 0s 4ms/step - loss: 0.0019 - accuracy: 1.0000 - val_loss: 0.4924 - val_accuracy: 0.8533\n",
            "Epoch 62/100\n",
            "60/60 [==============================] - 0s 4ms/step - loss: 0.0018 - accuracy: 1.0000 - val_loss: 0.4949 - val_accuracy: 0.8533\n",
            "Epoch 63/100\n",
            "60/60 [==============================] - 0s 4ms/step - loss: 0.0017 - accuracy: 1.0000 - val_loss: 0.4970 - val_accuracy: 0.8533\n",
            "Epoch 64/100\n",
            "60/60 [==============================] - 0s 4ms/step - loss: 0.0016 - accuracy: 1.0000 - val_loss: 0.4993 - val_accuracy: 0.8533\n",
            "Epoch 65/100\n",
            "60/60 [==============================] - 0s 7ms/step - loss: 0.0015 - accuracy: 1.0000 - val_loss: 0.5002 - val_accuracy: 0.8600\n",
            "Epoch 66/100\n",
            "60/60 [==============================] - 0s 6ms/step - loss: 0.0015 - accuracy: 1.0000 - val_loss: 0.5038 - val_accuracy: 0.8533\n",
            "Epoch 67/100\n",
            "60/60 [==============================] - 0s 5ms/step - loss: 0.0014 - accuracy: 1.0000 - val_loss: 0.5053 - val_accuracy: 0.8533\n",
            "Epoch 68/100\n",
            "60/60 [==============================] - 0s 4ms/step - loss: 0.0013 - accuracy: 1.0000 - val_loss: 0.5072 - val_accuracy: 0.8600\n",
            "Epoch 69/100\n",
            "60/60 [==============================] - 0s 4ms/step - loss: 0.0013 - accuracy: 1.0000 - val_loss: 0.5097 - val_accuracy: 0.8600\n",
            "Epoch 70/100\n",
            "60/60 [==============================] - 0s 4ms/step - loss: 0.0012 - accuracy: 1.0000 - val_loss: 0.5119 - val_accuracy: 0.8533\n",
            "Epoch 71/100\n",
            "60/60 [==============================] - 0s 4ms/step - loss: 0.0012 - accuracy: 1.0000 - val_loss: 0.5137 - val_accuracy: 0.8600\n",
            "Epoch 72/100\n",
            "60/60 [==============================] - 0s 4ms/step - loss: 0.0011 - accuracy: 1.0000 - val_loss: 0.5153 - val_accuracy: 0.8600\n",
            "Epoch 73/100\n",
            "60/60 [==============================] - 0s 4ms/step - loss: 0.0011 - accuracy: 1.0000 - val_loss: 0.5181 - val_accuracy: 0.8600\n",
            "Epoch 74/100\n",
            "60/60 [==============================] - 0s 4ms/step - loss: 0.0010 - accuracy: 1.0000 - val_loss: 0.5197 - val_accuracy: 0.8600\n",
            "Epoch 75/100\n",
            "60/60 [==============================] - 0s 4ms/step - loss: 9.8575e-04 - accuracy: 1.0000 - val_loss: 0.5217 - val_accuracy: 0.8600\n",
            "Epoch 76/100\n",
            "60/60 [==============================] - 0s 4ms/step - loss: 9.4416e-04 - accuracy: 1.0000 - val_loss: 0.5242 - val_accuracy: 0.8600\n",
            "Epoch 77/100\n",
            "60/60 [==============================] - 0s 4ms/step - loss: 9.0441e-04 - accuracy: 1.0000 - val_loss: 0.5257 - val_accuracy: 0.8600\n",
            "Epoch 78/100\n",
            "60/60 [==============================] - 0s 4ms/step - loss: 8.6757e-04 - accuracy: 1.0000 - val_loss: 0.5284 - val_accuracy: 0.8600\n",
            "Epoch 79/100\n",
            "60/60 [==============================] - 0s 4ms/step - loss: 8.3158e-04 - accuracy: 1.0000 - val_loss: 0.5300 - val_accuracy: 0.8600\n",
            "Epoch 80/100\n",
            "60/60 [==============================] - 0s 4ms/step - loss: 7.9682e-04 - accuracy: 1.0000 - val_loss: 0.5320 - val_accuracy: 0.8600\n",
            "Epoch 81/100\n",
            "60/60 [==============================] - 0s 4ms/step - loss: 7.6483e-04 - accuracy: 1.0000 - val_loss: 0.5337 - val_accuracy: 0.8600\n",
            "Epoch 82/100\n",
            "60/60 [==============================] - 0s 4ms/step - loss: 7.3378e-04 - accuracy: 1.0000 - val_loss: 0.5360 - val_accuracy: 0.8600\n",
            "Epoch 83/100\n",
            "60/60 [==============================] - 0s 4ms/step - loss: 7.0317e-04 - accuracy: 1.0000 - val_loss: 0.5383 - val_accuracy: 0.8600\n",
            "Epoch 84/100\n",
            "60/60 [==============================] - 0s 4ms/step - loss: 6.7490e-04 - accuracy: 1.0000 - val_loss: 0.5402 - val_accuracy: 0.8600\n",
            "Epoch 85/100\n",
            "60/60 [==============================] - 0s 4ms/step - loss: 6.4791e-04 - accuracy: 1.0000 - val_loss: 0.5420 - val_accuracy: 0.8600\n",
            "Epoch 86/100\n",
            "60/60 [==============================] - 0s 4ms/step - loss: 6.2375e-04 - accuracy: 1.0000 - val_loss: 0.5435 - val_accuracy: 0.8600\n",
            "Epoch 87/100\n",
            "60/60 [==============================] - 0s 4ms/step - loss: 5.9719e-04 - accuracy: 1.0000 - val_loss: 0.5466 - val_accuracy: 0.8600\n",
            "Epoch 88/100\n",
            "60/60 [==============================] - 0s 4ms/step - loss: 5.7292e-04 - accuracy: 1.0000 - val_loss: 0.5483 - val_accuracy: 0.8600\n",
            "Epoch 89/100\n",
            "60/60 [==============================] - 0s 4ms/step - loss: 5.5112e-04 - accuracy: 1.0000 - val_loss: 0.5502 - val_accuracy: 0.8600\n",
            "Epoch 90/100\n",
            "60/60 [==============================] - 0s 4ms/step - loss: 5.2962e-04 - accuracy: 1.0000 - val_loss: 0.5521 - val_accuracy: 0.8600\n",
            "Epoch 91/100\n",
            "60/60 [==============================] - 0s 4ms/step - loss: 5.0845e-04 - accuracy: 1.0000 - val_loss: 0.5537 - val_accuracy: 0.8600\n",
            "Epoch 92/100\n",
            "60/60 [==============================] - 0s 4ms/step - loss: 4.8868e-04 - accuracy: 1.0000 - val_loss: 0.5563 - val_accuracy: 0.8600\n",
            "Epoch 93/100\n",
            "60/60 [==============================] - 0s 4ms/step - loss: 4.7071e-04 - accuracy: 1.0000 - val_loss: 0.5569 - val_accuracy: 0.8600\n",
            "Epoch 94/100\n",
            "60/60 [==============================] - 0s 4ms/step - loss: 4.5207e-04 - accuracy: 1.0000 - val_loss: 0.5596 - val_accuracy: 0.8600\n",
            "Epoch 95/100\n",
            "60/60 [==============================] - 0s 5ms/step - loss: 4.3486e-04 - accuracy: 1.0000 - val_loss: 0.5616 - val_accuracy: 0.8600\n",
            "Epoch 96/100\n",
            "60/60 [==============================] - 0s 4ms/step - loss: 4.1846e-04 - accuracy: 1.0000 - val_loss: 0.5634 - val_accuracy: 0.8600\n",
            "Epoch 97/100\n",
            "60/60 [==============================] - 0s 5ms/step - loss: 4.0248e-04 - accuracy: 1.0000 - val_loss: 0.5650 - val_accuracy: 0.8600\n",
            "Epoch 98/100\n",
            "60/60 [==============================] - 0s 4ms/step - loss: 3.8715e-04 - accuracy: 1.0000 - val_loss: 0.5676 - val_accuracy: 0.8600\n",
            "Epoch 99/100\n",
            "60/60 [==============================] - 0s 4ms/step - loss: 3.7194e-04 - accuracy: 1.0000 - val_loss: 0.5695 - val_accuracy: 0.8600\n",
            "Epoch 100/100\n",
            "60/60 [==============================] - 0s 4ms/step - loss: 3.5808e-04 - accuracy: 1.0000 - val_loss: 0.5711 - val_accuracy: 0.8600\n",
            "Test Accuracy:  78.39999794960022\n"
          ]
        }
      ]
    },
    {
      "cell_type": "code",
      "source": [
        "\n",
        "plt.subplot(2,1,1)\n",
        "plt.plot(hist.history['accuracy'])\n",
        "plt.plot(hist.history['val_accuracy'])\n",
        "plt.title('model accuracy')\n",
        "plt.ylabel('accuracy')\n",
        "plt.xlabel('epoch')\n",
        "plt.legend(['train', 'test'], loc='lower right')\n",
        "plt.subplot(2,1,2)\n",
        "plt.plot(hist.history['loss'])\n",
        "plt.plot(hist.history['val_loss'])\n",
        "plt.title('model loss')\n",
        "plt.ylabel('loss')\n",
        "plt.xlabel('epoch')\n",
        "plt.legend(['train', 'test'], loc='upper right')\n",
        "plt.show()"
      ],
      "metadata": {
        "colab": {
          "base_uri": "https://localhost:8080/",
          "height": 295
        },
        "id": "tfG1EpXTrLxw",
        "outputId": "6452fab1-e2fa-46a5-c258-97c812757b4f"
      },
      "execution_count": 31,
      "outputs": [
        {
          "output_type": "display_data",
          "data": {
            "image/png": "[encoded data removed]",
            "text/plain": [
              "<Figure size 432x288 with 2 Axes>"
            ]
          },
          "metadata": {
            "needs_background": "light"
          }
        }
      ]
    },
    {
      "cell_type": "markdown",
      "source": [
        "Q4- Explain these graphs. If you see any issue, suggest a solution to resolve it. Make the model by creating 3hidden layers (first one 200 nodes, second one 100 nodes and last one 50 nodes and after each step, adddropout of 0.2 and report the accuracy. If you don’t see a huge improvement, don’t worry we are not done withthe model yet.\n",
        "After around 15 epoch, the loss increases, indicating overfitting, may add regularization such as dropout to fix it."
      ],
      "metadata": {
        "id": "oQfetmvosVaY"
      }
    },
    {
      "cell_type": "code",
      "source": [
        "\n",
        "model_2 = Sequential()\n",
        "model_2.add(layers.Dense(200, input_dim=input_dim, activation='relu'))\n",
        "model_2.add(Dropout(0.2))\n",
        "model_2.add(layers.Dense(100, input_dim=input_dim, activation='relu'))\n",
        "model_2.add(Dropout(0.2))\n",
        "model_2.add(layers.Dense(50, input_dim=input_dim, activation='relu'))\n",
        "model_2.add(Dropout(0.2))\n",
        "model_2.add(layers.Dense(1, activation='sigmoid'))\n",
        "model_2.compile(loss='binary_crossentropy', optimizer='adam',metrics=['accuracy'])\n",
        "hist_2 = model_2.fit(X_train, y_train, epochs=100, validation_split=0.2 ,batch_size=10)\n",
        "loss, accuracy = model_2.evaluate(X_test, y_test, verbose=False)\n",
        "print(\"Test Accuracy: \",accuracy*100)"
      ],
      "metadata": {
        "colab": {
          "base_uri": "https://localhost:8080/"
        },
        "id": "cuMeqvkOqhHV",
        "outputId": "e7574e67-03ad-4c2b-b072-396d705e3cf5"
      },
      "execution_count": 32,
      "outputs": [
        {
          "output_type": "stream",
          "name": "stdout",
          "text": [
            "Epoch 1/100\n",
            "60/60 [==============================] - 2s 13ms/step - loss: 0.6835 - accuracy: 0.5917 - val_loss: 0.6509 - val_accuracy: 0.7133\n",
            "Epoch 2/100\n",
            "60/60 [==============================] - 1s 8ms/step - loss: 0.4676 - accuracy: 0.8417 - val_loss: 0.4677 - val_accuracy: 0.8133\n",
            "Epoch 3/100\n",
            "60/60 [==============================] - 0s 8ms/step - loss: 0.1277 - accuracy: 0.9667 - val_loss: 0.5140 - val_accuracy: 0.8133\n",
            "Epoch 4/100\n",
            "60/60 [==============================] - 1s 9ms/step - loss: 0.0233 - accuracy: 0.9967 - val_loss: 0.5971 - val_accuracy: 0.8067\n",
            "Epoch 5/100\n",
            "60/60 [==============================] - 0s 8ms/step - loss: 0.0096 - accuracy: 1.0000 - val_loss: 0.6054 - val_accuracy: 0.8333\n",
            "Epoch 6/100\n",
            "60/60 [==============================] - 0s 7ms/step - loss: 0.0033 - accuracy: 1.0000 - val_loss: 0.6086 - val_accuracy: 0.8267\n",
            "Epoch 7/100\n",
            "60/60 [==============================] - 0s 7ms/step - loss: 0.0022 - accuracy: 1.0000 - val_loss: 0.6236 - val_accuracy: 0.8200\n",
            "Epoch 8/100\n",
            "60/60 [==============================] - 0s 7ms/step - loss: 0.0013 - accuracy: 1.0000 - val_loss: 0.6473 - val_accuracy: 0.8267\n",
            "Epoch 9/100\n",
            "60/60 [==============================] - 0s 7ms/step - loss: 9.1720e-04 - accuracy: 1.0000 - val_loss: 0.6608 - val_accuracy: 0.8267\n",
            "Epoch 10/100\n",
            "60/60 [==============================] - 0s 7ms/step - loss: 7.8372e-04 - accuracy: 1.0000 - val_loss: 0.6780 - val_accuracy: 0.8267\n",
            "Epoch 11/100\n",
            "60/60 [==============================] - 1s 8ms/step - loss: 7.4320e-04 - accuracy: 1.0000 - val_loss: 0.7053 - val_accuracy: 0.8267\n",
            "Epoch 12/100\n",
            "60/60 [==============================] - 0s 8ms/step - loss: 4.8433e-04 - accuracy: 1.0000 - val_loss: 0.7081 - val_accuracy: 0.8400\n",
            "Epoch 13/100\n",
            "60/60 [==============================] - 0s 7ms/step - loss: 3.6191e-04 - accuracy: 1.0000 - val_loss: 0.7189 - val_accuracy: 0.8333\n",
            "Epoch 14/100\n",
            "60/60 [==============================] - 0s 8ms/step - loss: 4.4713e-04 - accuracy: 1.0000 - val_loss: 0.7360 - val_accuracy: 0.8400\n",
            "Epoch 15/100\n",
            "60/60 [==============================] - 0s 8ms/step - loss: 2.7374e-04 - accuracy: 1.0000 - val_loss: 0.7271 - val_accuracy: 0.8467\n",
            "Epoch 16/100\n",
            "60/60 [==============================] - 0s 8ms/step - loss: 1.8409e-04 - accuracy: 1.0000 - val_loss: 0.7375 - val_accuracy: 0.8400\n",
            "Epoch 17/100\n",
            "60/60 [==============================] - 0s 6ms/step - loss: 2.1385e-04 - accuracy: 1.0000 - val_loss: 0.7472 - val_accuracy: 0.8400\n",
            "Epoch 18/100\n",
            "60/60 [==============================] - 0s 5ms/step - loss: 1.8404e-04 - accuracy: 1.0000 - val_loss: 0.7560 - val_accuracy: 0.8400\n",
            "Epoch 19/100\n",
            "60/60 [==============================] - 0s 5ms/step - loss: 1.1150e-04 - accuracy: 1.0000 - val_loss: 0.7634 - val_accuracy: 0.8400\n",
            "Epoch 20/100\n",
            "60/60 [==============================] - 0s 5ms/step - loss: 1.1944e-04 - accuracy: 1.0000 - val_loss: 0.7726 - val_accuracy: 0.8400\n",
            "Epoch 21/100\n",
            "60/60 [==============================] - 0s 5ms/step - loss: 7.7479e-05 - accuracy: 1.0000 - val_loss: 0.7815 - val_accuracy: 0.8467\n",
            "Epoch 22/100\n",
            "60/60 [==============================] - 0s 5ms/step - loss: 1.0071e-04 - accuracy: 1.0000 - val_loss: 0.7882 - val_accuracy: 0.8400\n",
            "Epoch 23/100\n",
            "60/60 [==============================] - 0s 5ms/step - loss: 7.7112e-05 - accuracy: 1.0000 - val_loss: 0.7946 - val_accuracy: 0.8467\n",
            "Epoch 24/100\n",
            "60/60 [==============================] - 0s 5ms/step - loss: 7.6658e-05 - accuracy: 1.0000 - val_loss: 0.7976 - val_accuracy: 0.8333\n",
            "Epoch 25/100\n",
            "60/60 [==============================] - 0s 5ms/step - loss: 1.1494e-04 - accuracy: 1.0000 - val_loss: 0.8120 - val_accuracy: 0.8333\n",
            "Epoch 26/100\n",
            "60/60 [==============================] - 0s 5ms/step - loss: 4.9544e-05 - accuracy: 1.0000 - val_loss: 0.8167 - val_accuracy: 0.8333\n",
            "Epoch 27/100\n",
            "60/60 [==============================] - 0s 5ms/step - loss: 8.4904e-05 - accuracy: 1.0000 - val_loss: 0.8152 - val_accuracy: 0.8333\n",
            "Epoch 28/100\n",
            "60/60 [==============================] - 0s 5ms/step - loss: 5.1030e-05 - accuracy: 1.0000 - val_loss: 0.8196 - val_accuracy: 0.8333\n",
            "Epoch 29/100\n",
            "60/60 [==============================] - 0s 5ms/step - loss: 3.6131e-05 - accuracy: 1.0000 - val_loss: 0.8239 - val_accuracy: 0.8333\n",
            "Epoch 30/100\n",
            "60/60 [==============================] - 0s 5ms/step - loss: 4.8835e-05 - accuracy: 1.0000 - val_loss: 0.8276 - val_accuracy: 0.8333\n",
            "Epoch 31/100\n",
            "60/60 [==============================] - 0s 5ms/step - loss: 5.2999e-05 - accuracy: 1.0000 - val_loss: 0.8336 - val_accuracy: 0.8333\n",
            "Epoch 32/100\n",
            "60/60 [==============================] - 0s 5ms/step - loss: 4.3556e-05 - accuracy: 1.0000 - val_loss: 0.8393 - val_accuracy: 0.8333\n",
            "Epoch 33/100\n",
            "60/60 [==============================] - 0s 5ms/step - loss: 4.0279e-05 - accuracy: 1.0000 - val_loss: 0.8432 - val_accuracy: 0.8333\n",
            "Epoch 34/100\n",
            "60/60 [==============================] - 0s 5ms/step - loss: 2.1181e-04 - accuracy: 1.0000 - val_loss: 0.9769 - val_accuracy: 0.8267\n",
            "Epoch 35/100\n",
            "60/60 [==============================] - 0s 5ms/step - loss: 4.8183e-05 - accuracy: 1.0000 - val_loss: 0.9544 - val_accuracy: 0.8133\n",
            "Epoch 36/100\n",
            "60/60 [==============================] - 0s 4ms/step - loss: 6.1007e-05 - accuracy: 1.0000 - val_loss: 0.9207 - val_accuracy: 0.8467\n",
            "Epoch 37/100\n",
            "60/60 [==============================] - 0s 5ms/step - loss: 2.1539e-05 - accuracy: 1.0000 - val_loss: 0.9234 - val_accuracy: 0.8467\n",
            "Epoch 38/100\n",
            "60/60 [==============================] - 0s 5ms/step - loss: 5.0069e-05 - accuracy: 1.0000 - val_loss: 0.9325 - val_accuracy: 0.8467\n",
            "Epoch 39/100\n",
            "60/60 [==============================] - 0s 5ms/step - loss: 1.4253e-05 - accuracy: 1.0000 - val_loss: 0.9401 - val_accuracy: 0.8467\n",
            "Epoch 40/100\n",
            "60/60 [==============================] - 0s 5ms/step - loss: 2.0747e-05 - accuracy: 1.0000 - val_loss: 0.9399 - val_accuracy: 0.8467\n",
            "Epoch 41/100\n",
            "60/60 [==============================] - 0s 4ms/step - loss: 3.2524e-05 - accuracy: 1.0000 - val_loss: 0.9443 - val_accuracy: 0.8467\n",
            "Epoch 42/100\n",
            "60/60 [==============================] - 0s 5ms/step - loss: 1.3114e-05 - accuracy: 1.0000 - val_loss: 0.9476 - val_accuracy: 0.8467\n",
            "Epoch 43/100\n",
            "60/60 [==============================] - 0s 5ms/step - loss: 2.1577e-05 - accuracy: 1.0000 - val_loss: 0.9506 - val_accuracy: 0.8467\n",
            "Epoch 44/100\n",
            "60/60 [==============================] - 0s 5ms/step - loss: 2.0084e-05 - accuracy: 1.0000 - val_loss: 0.9521 - val_accuracy: 0.8467\n",
            "Epoch 45/100\n",
            "60/60 [==============================] - 0s 5ms/step - loss: 2.6032e-05 - accuracy: 1.0000 - val_loss: 0.9552 - val_accuracy: 0.8467\n",
            "Epoch 46/100\n",
            "60/60 [==============================] - 0s 5ms/step - loss: 2.1007e-05 - accuracy: 1.0000 - val_loss: 0.9598 - val_accuracy: 0.8467\n",
            "Epoch 47/100\n",
            "60/60 [==============================] - 0s 4ms/step - loss: 1.7808e-05 - accuracy: 1.0000 - val_loss: 0.9647 - val_accuracy: 0.8467\n",
            "Epoch 48/100\n",
            "60/60 [==============================] - 0s 4ms/step - loss: 2.4309e-05 - accuracy: 1.0000 - val_loss: 0.9638 - val_accuracy: 0.8467\n",
            "Epoch 49/100\n",
            "60/60 [==============================] - 0s 5ms/step - loss: 3.3280e-05 - accuracy: 1.0000 - val_loss: 0.9690 - val_accuracy: 0.8467\n",
            "Epoch 50/100\n",
            "60/60 [==============================] - 0s 5ms/step - loss: 2.7279e-05 - accuracy: 1.0000 - val_loss: 0.9768 - val_accuracy: 0.8467\n",
            "Epoch 51/100\n",
            "60/60 [==============================] - 0s 4ms/step - loss: 9.9036e-06 - accuracy: 1.0000 - val_loss: 0.9812 - val_accuracy: 0.8467\n",
            "Epoch 52/100\n",
            "60/60 [==============================] - 0s 5ms/step - loss: 1.2856e-05 - accuracy: 1.0000 - val_loss: 0.9854 - val_accuracy: 0.8467\n",
            "Epoch 53/100\n",
            "60/60 [==============================] - 0s 5ms/step - loss: 1.0591e-05 - accuracy: 1.0000 - val_loss: 0.9889 - val_accuracy: 0.8467\n",
            "Epoch 54/100\n",
            "60/60 [==============================] - 0s 5ms/step - loss: 7.6441e-06 - accuracy: 1.0000 - val_loss: 0.9913 - val_accuracy: 0.8467\n",
            "Epoch 55/100\n",
            "60/60 [==============================] - 0s 4ms/step - loss: 1.5376e-05 - accuracy: 1.0000 - val_loss: 0.9957 - val_accuracy: 0.8467\n",
            "Epoch 56/100\n",
            "60/60 [==============================] - 0s 5ms/step - loss: 9.0377e-06 - accuracy: 1.0000 - val_loss: 0.9989 - val_accuracy: 0.8467\n",
            "Epoch 57/100\n",
            "60/60 [==============================] - 0s 5ms/step - loss: 8.2613e-06 - accuracy: 1.0000 - val_loss: 1.0019 - val_accuracy: 0.8467\n",
            "Epoch 58/100\n",
            "60/60 [==============================] - 0s 5ms/step - loss: 5.9674e-06 - accuracy: 1.0000 - val_loss: 1.0042 - val_accuracy: 0.8467\n",
            "Epoch 59/100\n",
            "60/60 [==============================] - 0s 5ms/step - loss: 9.8186e-06 - accuracy: 1.0000 - val_loss: 1.0092 - val_accuracy: 0.8467\n",
            "Epoch 60/100\n",
            "60/60 [==============================] - 0s 4ms/step - loss: 5.7519e-06 - accuracy: 1.0000 - val_loss: 1.0122 - val_accuracy: 0.8467\n",
            "Epoch 61/100\n",
            "60/60 [==============================] - 0s 4ms/step - loss: 1.3124e-05 - accuracy: 1.0000 - val_loss: 1.0243 - val_accuracy: 0.8400\n",
            "Epoch 62/100\n",
            "60/60 [==============================] - 0s 5ms/step - loss: 4.8292e-06 - accuracy: 1.0000 - val_loss: 1.0263 - val_accuracy: 0.8400\n",
            "Epoch 63/100\n",
            "60/60 [==============================] - 0s 5ms/step - loss: 1.0621e-05 - accuracy: 1.0000 - val_loss: 1.0328 - val_accuracy: 0.8400\n",
            "Epoch 64/100\n",
            "60/60 [==============================] - 0s 5ms/step - loss: 5.1919e-06 - accuracy: 1.0000 - val_loss: 1.0374 - val_accuracy: 0.8400\n",
            "Epoch 65/100\n",
            "60/60 [==============================] - 0s 4ms/step - loss: 8.5315e-06 - accuracy: 1.0000 - val_loss: 1.0329 - val_accuracy: 0.8400\n",
            "Epoch 66/100\n",
            "60/60 [==============================] - 0s 5ms/step - loss: 5.2184e-06 - accuracy: 1.0000 - val_loss: 1.0353 - val_accuracy: 0.8400\n",
            "Epoch 67/100\n",
            "60/60 [==============================] - 0s 4ms/step - loss: 4.5720e-06 - accuracy: 1.0000 - val_loss: 1.0383 - val_accuracy: 0.8400\n",
            "Epoch 68/100\n",
            "60/60 [==============================] - 0s 5ms/step - loss: 5.2584e-06 - accuracy: 1.0000 - val_loss: 1.0407 - val_accuracy: 0.8400\n",
            "Epoch 69/100\n",
            "60/60 [==============================] - 0s 5ms/step - loss: 7.3575e-06 - accuracy: 1.0000 - val_loss: 1.0430 - val_accuracy: 0.8400\n",
            "Epoch 70/100\n",
            "60/60 [==============================] - 0s 5ms/step - loss: 2.6438e-06 - accuracy: 1.0000 - val_loss: 1.0456 - val_accuracy: 0.8467\n",
            "Epoch 71/100\n",
            "60/60 [==============================] - 0s 5ms/step - loss: 2.9139e-06 - accuracy: 1.0000 - val_loss: 1.0469 - val_accuracy: 0.8467\n",
            "Epoch 72/100\n",
            "60/60 [==============================] - 0s 4ms/step - loss: 3.9125e-06 - accuracy: 1.0000 - val_loss: 1.0491 - val_accuracy: 0.8467\n",
            "Epoch 73/100\n",
            "60/60 [==============================] - 0s 5ms/step - loss: 2.9794e-06 - accuracy: 1.0000 - val_loss: 1.0515 - val_accuracy: 0.8467\n",
            "Epoch 74/100\n",
            "60/60 [==============================] - 0s 5ms/step - loss: 7.0745e-06 - accuracy: 1.0000 - val_loss: 1.0594 - val_accuracy: 0.8400\n",
            "Epoch 75/100\n",
            "60/60 [==============================] - 0s 4ms/step - loss: 4.6560e-06 - accuracy: 1.0000 - val_loss: 1.0634 - val_accuracy: 0.8400\n",
            "Epoch 76/100\n",
            "60/60 [==============================] - 0s 4ms/step - loss: 3.5497e-06 - accuracy: 1.0000 - val_loss: 1.0657 - val_accuracy: 0.8400\n",
            "Epoch 77/100\n",
            "60/60 [==============================] - 0s 5ms/step - loss: 6.1533e-06 - accuracy: 1.0000 - val_loss: 1.0619 - val_accuracy: 0.8467\n",
            "Epoch 78/100\n",
            "60/60 [==============================] - 0s 5ms/step - loss: 6.9014e-06 - accuracy: 1.0000 - val_loss: 1.0651 - val_accuracy: 0.8467\n",
            "Epoch 79/100\n",
            "60/60 [==============================] - 0s 4ms/step - loss: 9.6246e-05 - accuracy: 1.0000 - val_loss: 1.1270 - val_accuracy: 0.8533\n",
            "Epoch 80/100\n",
            "60/60 [==============================] - 0s 5ms/step - loss: 2.3913e-06 - accuracy: 1.0000 - val_loss: 1.1298 - val_accuracy: 0.8533\n",
            "Epoch 81/100\n",
            "60/60 [==============================] - 0s 5ms/step - loss: 2.7310e-06 - accuracy: 1.0000 - val_loss: 1.1279 - val_accuracy: 0.8467\n",
            "Epoch 82/100\n",
            "60/60 [==============================] - 0s 5ms/step - loss: 6.5314e-06 - accuracy: 1.0000 - val_loss: 1.1205 - val_accuracy: 0.8600\n",
            "Epoch 83/100\n",
            "60/60 [==============================] - 0s 5ms/step - loss: 1.5569e-06 - accuracy: 1.0000 - val_loss: 1.1226 - val_accuracy: 0.8600\n",
            "Epoch 84/100\n",
            "60/60 [==============================] - 0s 5ms/step - loss: 2.6701e-06 - accuracy: 1.0000 - val_loss: 1.1230 - val_accuracy: 0.8600\n",
            "Epoch 85/100\n",
            "60/60 [==============================] - 0s 5ms/step - loss: 1.6685e-06 - accuracy: 1.0000 - val_loss: 1.1230 - val_accuracy: 0.8600\n",
            "Epoch 86/100\n",
            "60/60 [==============================] - 0s 5ms/step - loss: 1.6034e-06 - accuracy: 1.0000 - val_loss: 1.1276 - val_accuracy: 0.8533\n",
            "Epoch 87/100\n",
            "60/60 [==============================] - 0s 5ms/step - loss: 1.8483e-06 - accuracy: 1.0000 - val_loss: 1.1295 - val_accuracy: 0.8533\n",
            "Epoch 88/100\n",
            "60/60 [==============================] - 0s 5ms/step - loss: 1.6181e-06 - accuracy: 1.0000 - val_loss: 1.1321 - val_accuracy: 0.8533\n",
            "Epoch 89/100\n",
            "60/60 [==============================] - 0s 5ms/step - loss: 5.3247e-06 - accuracy: 1.0000 - val_loss: 1.1404 - val_accuracy: 0.8533\n",
            "Epoch 90/100\n",
            "60/60 [==============================] - 0s 5ms/step - loss: 3.1489e-06 - accuracy: 1.0000 - val_loss: 1.1446 - val_accuracy: 0.8533\n",
            "Epoch 91/100\n",
            "60/60 [==============================] - 0s 5ms/step - loss: 2.0143e-06 - accuracy: 1.0000 - val_loss: 1.1485 - val_accuracy: 0.8533\n",
            "Epoch 92/100\n",
            "60/60 [==============================] - 0s 5ms/step - loss: 2.1777e-06 - accuracy: 1.0000 - val_loss: 1.1532 - val_accuracy: 0.8533\n",
            "Epoch 93/100\n",
            "60/60 [==============================] - 0s 5ms/step - loss: 1.6387e-06 - accuracy: 1.0000 - val_loss: 1.1533 - val_accuracy: 0.8600\n",
            "Epoch 94/100\n",
            "60/60 [==============================] - 0s 5ms/step - loss: 2.7219e-06 - accuracy: 1.0000 - val_loss: 1.1577 - val_accuracy: 0.8533\n",
            "Epoch 95/100\n",
            "60/60 [==============================] - 0s 5ms/step - loss: 4.7019e-06 - accuracy: 1.0000 - val_loss: 1.1576 - val_accuracy: 0.8533\n",
            "Epoch 96/100\n",
            "60/60 [==============================] - 0s 5ms/step - loss: 6.1554e-07 - accuracy: 1.0000 - val_loss: 1.1644 - val_accuracy: 0.8533\n",
            "Epoch 97/100\n",
            "60/60 [==============================] - 0s 5ms/step - loss: 1.7260e-06 - accuracy: 1.0000 - val_loss: 1.1667 - val_accuracy: 0.8533\n",
            "Epoch 98/100\n",
            "60/60 [==============================] - 0s 4ms/step - loss: 9.9986e-07 - accuracy: 1.0000 - val_loss: 1.1682 - val_accuracy: 0.8533\n",
            "Epoch 99/100\n",
            "60/60 [==============================] - 0s 4ms/step - loss: 1.5882e-06 - accuracy: 1.0000 - val_loss: 1.1705 - val_accuracy: 0.8533\n",
            "Epoch 100/100\n",
            "60/60 [==============================] - 0s 5ms/step - loss: 1.4152e-06 - accuracy: 1.0000 - val_loss: 1.1749 - val_accuracy: 0.8533\n",
            "Test Accuracy:  81.19999766349792\n"
          ]
        }
      ]
    },
    {
      "cell_type": "code",
      "source": [
        "\n",
        "from keras.preprocessing.text import Tokenizer\n",
        "tokenizer = Tokenizer(num_words=5000)\n",
        "tokenizer.fit_on_texts(sentences_train)\n",
        "X_train = tokenizer.texts_to_sequences(sentences_train)\n",
        "X_test = tokenizer.texts_to_sequences(sentences_test)\n",
        "vocab_size = len(tokenizer.word_index) + 1 # Adding 1 because of reserved 0 index\n",
        "print(sentences_train[3])\n",
        "print(X_train[3])"
      ],
      "metadata": {
        "colab": {
          "base_uri": "https://localhost:8080/"
        },
        "id": "2L38qP2AqhKP",
        "outputId": "72bfd99c-502b-4a5a-cd4e-b5950091e430"
      },
      "execution_count": 33,
      "outputs": [
        {
          "output_type": "stream",
          "name": "stdout",
          "text": [
            "This is the phone to get for 2005.... I just bought my S710a and all I can say is WOW!\n",
            "[7, 5, 1, 9, 8, 92, 11, 676, 2, 59, 101, 10, 677, 3, 32, 2, 71, 225, 5, 449]\n"
          ]
        }
      ]
    },
    {
      "cell_type": "code",
      "source": [
        "for word in ['the', 'all', 'happy']:print('{}: {}'.format(word, tokenizer.word_index[word]))"
      ],
      "metadata": {
        "colab": {
          "base_uri": "https://localhost:8080/"
        },
        "id": "Q1hkqpqKqhPL",
        "outputId": "eb1481ed-0448-4752-ad72-34e850e2debc"
      },
      "execution_count": 35,
      "outputs": [
        {
          "output_type": "stream",
          "name": "stdout",
          "text": [
            "the: 1\n",
            "all: 32\n",
            "happy: 86\n"
          ]
        }
      ]
    },
    {
      "cell_type": "code",
      "source": [
        "from keras.preprocessing.sequence import pad_sequences\n",
        "maxlen = 100\n",
        "# Pad variables with zeros\n",
        "X_train = pad_sequences(X_train, padding='post', maxlen=maxlen)\n",
        "X_test = pad_sequences(X_test, padding='post', maxlen=maxlen)\n",
        "print(X_train[0, :])"
      ],
      "metadata": {
        "colab": {
          "base_uri": "https://localhost:8080/"
        },
        "id": "gChTiZQ4qhSB",
        "outputId": "b3c2b2d1-ac83-49e9-bc05-8532d9f93429"
      },
      "execution_count": 37,
      "outputs": [
        {
          "output_type": "stream",
          "name": "stdout",
          "text": [
            "[  7  24   5  16   4 137 148   6 223 315   2  71 224   8   1 673 111 444\n",
            "  18 316  11 445   0   0   0   0   0   0   0   0   0   0   0   0   0   0\n",
            "   0   0   0   0   0   0   0   0   0   0   0   0   0   0   0   0   0   0\n",
            "   0   0   0   0   0   0   0   0   0   0   0   0   0   0   0   0   0   0\n",
            "   0   0   0   0   0   0   0   0   0   0   0   0   0   0   0   0   0   0\n",
            "   0   0   0   0   0   0   0   0   0   0]\n"
          ]
        }
      ]
    },
    {
      "cell_type": "code",
      "source": [
        "\n",
        "from tensorflow.keras.models import Sequential\n",
        "from tensorflow.keras import layers\n",
        "embedding_dim = 50\n",
        "model = Sequential()\n",
        "model.add(layers.Embedding(input_dim=vocab_size,output_dim=embedding_dim,input_length=maxlen))\n",
        "model.add(layers.GlobalMaxPool1D())\n",
        "model.add(layers.Dense(10, activation='relu'))\n",
        "model.add(layers.Dense(1, activation='sigmoid'))\n",
        "model.compile(optimizer='adam', loss='binary_crossentropy',\n",
        "metrics=['accuracy' ] )\n",
        "model.summary()"
      ],
      "metadata": {
        "colab": {
          "base_uri": "https://localhost:8080/"
        },
        "id": "Z-s1h7rCqhVW",
        "outputId": "be2bc965-8313-4bd6-fae6-645b878de21f"
      },
      "execution_count": 40,
      "outputs": [
        {
          "output_type": "stream",
          "name": "stdout",
          "text": [
            "Model: \"sequential_3\"\n",
            "_________________________________________________________________\n",
            " Layer (type)                Output Shape              Param #   \n",
            "=================================================================\n",
            " embedding (Embedding)       (None, 100, 50)           78700     \n",
            "                                                                 \n",
            " global_max_pooling1d (Globa  (None, 50)               0         \n",
            " lMaxPooling1D)                                                  \n",
            "                                                                 \n",
            " dense_8 (Dense)             (None, 10)                510       \n",
            "                                                                 \n",
            " dense_9 (Dense)             (None, 1)                 11        \n",
            "                                                                 \n",
            "=================================================================\n",
            "Total params: 79,221\n",
            "Trainable params: 79,221\n",
            "Non-trainable params: 0\n",
            "_________________________________________________________________\n"
          ]
        }
      ]
    },
    {
      "cell_type": "code",
      "source": [
        "hist = model.fit(X_train, y_train,\n",
        "epochs=50,\n",
        "validation_split=0.2,\n",
        "batch_size=10)\n",
        "loss, accuracy = model.evaluate(X_test, y_test, verbose=False)\n",
        "print(\"Accuracy: \",accuracy)"
      ],
      "metadata": {
        "colab": {
          "base_uri": "https://localhost:8080/"
        },
        "id": "2q2_mLEQupIF",
        "outputId": "2fe8f543-e2c6-4b70-d856-f5de27173164"
      },
      "execution_count": 41,
      "outputs": [
        {
          "output_type": "stream",
          "name": "stdout",
          "text": [
            "Epoch 1/50\n",
            "60/60 [==============================] - 2s 13ms/step - loss: 0.6917 - accuracy: 0.5917 - val_loss: 0.6886 - val_accuracy: 0.6333\n",
            "Epoch 2/50\n",
            "60/60 [==============================] - 0s 8ms/step - loss: 0.6789 - accuracy: 0.6367 - val_loss: 0.6746 - val_accuracy: 0.6133\n",
            "Epoch 3/50\n",
            "60/60 [==============================] - 1s 8ms/step - loss: 0.6432 - accuracy: 0.8217 - val_loss: 0.6385 - val_accuracy: 0.7067\n",
            "Epoch 4/50\n",
            "60/60 [==============================] - 0s 7ms/step - loss: 0.5557 - accuracy: 0.9117 - val_loss: 0.5762 - val_accuracy: 0.7200\n",
            "Epoch 5/50\n",
            "60/60 [==============================] - 0s 8ms/step - loss: 0.4293 - accuracy: 0.9433 - val_loss: 0.5089 - val_accuracy: 0.7733\n",
            "Epoch 6/50\n",
            "60/60 [==============================] - 1s 9ms/step - loss: 0.2946 - accuracy: 0.9700 - val_loss: 0.4448 - val_accuracy: 0.8067\n",
            "Epoch 7/50\n",
            "60/60 [==============================] - 1s 8ms/step - loss: 0.1876 - accuracy: 0.9783 - val_loss: 0.4023 - val_accuracy: 0.8200\n",
            "Epoch 8/50\n",
            "60/60 [==============================] - 0s 8ms/step - loss: 0.1103 - accuracy: 0.9883 - val_loss: 0.3774 - val_accuracy: 0.8333\n",
            "Epoch 9/50\n",
            "60/60 [==============================] - 1s 13ms/step - loss: 0.0675 - accuracy: 0.9917 - val_loss: 0.3656 - val_accuracy: 0.8267\n",
            "Epoch 10/50\n",
            "60/60 [==============================] - 1s 12ms/step - loss: 0.0435 - accuracy: 0.9967 - val_loss: 0.3619 - val_accuracy: 0.8533\n",
            "Epoch 11/50\n",
            "60/60 [==============================] - 0s 8ms/step - loss: 0.0290 - accuracy: 0.9983 - val_loss: 0.3635 - val_accuracy: 0.8400\n",
            "Epoch 12/50\n",
            "60/60 [==============================] - 0s 5ms/step - loss: 0.0205 - accuracy: 1.0000 - val_loss: 0.3634 - val_accuracy: 0.8533\n",
            "Epoch 13/50\n",
            "60/60 [==============================] - 0s 6ms/step - loss: 0.0149 - accuracy: 1.0000 - val_loss: 0.3658 - val_accuracy: 0.8600\n",
            "Epoch 14/50\n",
            "60/60 [==============================] - 0s 5ms/step - loss: 0.0114 - accuracy: 1.0000 - val_loss: 0.3701 - val_accuracy: 0.8667\n",
            "Epoch 15/50\n",
            "60/60 [==============================] - 0s 5ms/step - loss: 0.0088 - accuracy: 1.0000 - val_loss: 0.3732 - val_accuracy: 0.8533\n",
            "Epoch 16/50\n",
            "60/60 [==============================] - 0s 5ms/step - loss: 0.0070 - accuracy: 1.0000 - val_loss: 0.3752 - val_accuracy: 0.8600\n",
            "Epoch 17/50\n",
            "60/60 [==============================] - 0s 5ms/step - loss: 0.0058 - accuracy: 1.0000 - val_loss: 0.3788 - val_accuracy: 0.8600\n",
            "Epoch 18/50\n",
            "60/60 [==============================] - 0s 5ms/step - loss: 0.0048 - accuracy: 1.0000 - val_loss: 0.3807 - val_accuracy: 0.8600\n",
            "Epoch 19/50\n",
            "60/60 [==============================] - 0s 5ms/step - loss: 0.0041 - accuracy: 1.0000 - val_loss: 0.3833 - val_accuracy: 0.8600\n",
            "Epoch 20/50\n",
            "60/60 [==============================] - 0s 5ms/step - loss: 0.0034 - accuracy: 1.0000 - val_loss: 0.3859 - val_accuracy: 0.8600\n",
            "Epoch 21/50\n",
            "60/60 [==============================] - 0s 5ms/step - loss: 0.0029 - accuracy: 1.0000 - val_loss: 0.3880 - val_accuracy: 0.8667\n",
            "Epoch 22/50\n",
            "60/60 [==============================] - 0s 5ms/step - loss: 0.0026 - accuracy: 1.0000 - val_loss: 0.3901 - val_accuracy: 0.8667\n",
            "Epoch 23/50\n",
            "60/60 [==============================] - 0s 5ms/step - loss: 0.0022 - accuracy: 1.0000 - val_loss: 0.3931 - val_accuracy: 0.8667\n",
            "Epoch 24/50\n",
            "60/60 [==============================] - 0s 5ms/step - loss: 0.0020 - accuracy: 1.0000 - val_loss: 0.3954 - val_accuracy: 0.8667\n",
            "Epoch 25/50\n",
            "60/60 [==============================] - 0s 5ms/step - loss: 0.0018 - accuracy: 1.0000 - val_loss: 0.3987 - val_accuracy: 0.8667\n",
            "Epoch 26/50\n",
            "60/60 [==============================] - 0s 5ms/step - loss: 0.0016 - accuracy: 1.0000 - val_loss: 0.3999 - val_accuracy: 0.8667\n",
            "Epoch 27/50\n",
            "60/60 [==============================] - 0s 5ms/step - loss: 0.0014 - accuracy: 1.0000 - val_loss: 0.4016 - val_accuracy: 0.8667\n",
            "Epoch 28/50\n",
            "60/60 [==============================] - 0s 5ms/step - loss: 0.0013 - accuracy: 1.0000 - val_loss: 0.4042 - val_accuracy: 0.8667\n",
            "Epoch 29/50\n",
            "60/60 [==============================] - 0s 5ms/step - loss: 0.0011 - accuracy: 1.0000 - val_loss: 0.4057 - val_accuracy: 0.8600\n",
            "Epoch 30/50\n",
            "60/60 [==============================] - 0s 5ms/step - loss: 0.0010 - accuracy: 1.0000 - val_loss: 0.4073 - val_accuracy: 0.8600\n",
            "Epoch 31/50\n",
            "60/60 [==============================] - 0s 6ms/step - loss: 9.4757e-04 - accuracy: 1.0000 - val_loss: 0.4097 - val_accuracy: 0.8600\n",
            "Epoch 32/50\n",
            "60/60 [==============================] - 0s 6ms/step - loss: 8.6616e-04 - accuracy: 1.0000 - val_loss: 0.4119 - val_accuracy: 0.8600\n",
            "Epoch 33/50\n",
            "60/60 [==============================] - 0s 5ms/step - loss: 7.9421e-04 - accuracy: 1.0000 - val_loss: 0.4140 - val_accuracy: 0.8600\n",
            "Epoch 34/50\n",
            "60/60 [==============================] - 0s 6ms/step - loss: 7.3156e-04 - accuracy: 1.0000 - val_loss: 0.4160 - val_accuracy: 0.8600\n",
            "Epoch 35/50\n",
            "60/60 [==============================] - 0s 6ms/step - loss: 6.7476e-04 - accuracy: 1.0000 - val_loss: 0.4182 - val_accuracy: 0.8600\n",
            "Epoch 36/50\n",
            "60/60 [==============================] - 0s 6ms/step - loss: 6.2342e-04 - accuracy: 1.0000 - val_loss: 0.4204 - val_accuracy: 0.8600\n",
            "Epoch 37/50\n",
            "60/60 [==============================] - 0s 5ms/step - loss: 5.7828e-04 - accuracy: 1.0000 - val_loss: 0.4224 - val_accuracy: 0.8600\n",
            "Epoch 38/50\n",
            "60/60 [==============================] - 0s 5ms/step - loss: 5.3615e-04 - accuracy: 1.0000 - val_loss: 0.4247 - val_accuracy: 0.8600\n",
            "Epoch 39/50\n",
            "60/60 [==============================] - 0s 6ms/step - loss: 4.9830e-04 - accuracy: 1.0000 - val_loss: 0.4272 - val_accuracy: 0.8533\n",
            "Epoch 40/50\n",
            "60/60 [==============================] - 0s 5ms/step - loss: 4.6347e-04 - accuracy: 1.0000 - val_loss: 0.4293 - val_accuracy: 0.8467\n",
            "Epoch 41/50\n",
            "60/60 [==============================] - 0s 5ms/step - loss: 4.3250e-04 - accuracy: 1.0000 - val_loss: 0.4322 - val_accuracy: 0.8467\n",
            "Epoch 42/50\n",
            "60/60 [==============================] - 0s 5ms/step - loss: 4.0381e-04 - accuracy: 1.0000 - val_loss: 0.4346 - val_accuracy: 0.8467\n",
            "Epoch 43/50\n",
            "60/60 [==============================] - 0s 6ms/step - loss: 3.7714e-04 - accuracy: 1.0000 - val_loss: 0.4366 - val_accuracy: 0.8467\n",
            "Epoch 44/50\n",
            "60/60 [==============================] - 0s 5ms/step - loss: 3.5341e-04 - accuracy: 1.0000 - val_loss: 0.4386 - val_accuracy: 0.8467\n",
            "Epoch 45/50\n",
            "60/60 [==============================] - 0s 5ms/step - loss: 3.3136e-04 - accuracy: 1.0000 - val_loss: 0.4402 - val_accuracy: 0.8467\n",
            "Epoch 46/50\n",
            "60/60 [==============================] - 0s 5ms/step - loss: 3.1123e-04 - accuracy: 1.0000 - val_loss: 0.4423 - val_accuracy: 0.8467\n",
            "Epoch 47/50\n",
            "60/60 [==============================] - 0s 5ms/step - loss: 2.9252e-04 - accuracy: 1.0000 - val_loss: 0.4440 - val_accuracy: 0.8467\n",
            "Epoch 48/50\n",
            "60/60 [==============================] - 0s 5ms/step - loss: 2.7560e-04 - accuracy: 1.0000 - val_loss: 0.4470 - val_accuracy: 0.8467\n",
            "Epoch 49/50\n",
            "60/60 [==============================] - 0s 5ms/step - loss: 2.5928e-04 - accuracy: 1.0000 - val_loss: 0.4504 - val_accuracy: 0.8467\n",
            "Epoch 50/50\n",
            "60/60 [==============================] - 0s 5ms/step - loss: 2.4459e-04 - accuracy: 1.0000 - val_loss: 0.4521 - val_accuracy: 0.8533\n",
            "Accuracy:  0.7960000038146973\n"
          ]
        }
      ]
    },
    {
      "cell_type": "code",
      "source": [
        "plt.subplot(2,1,1)\n",
        "plt.plot(hist.history['accuracy'])\n",
        "plt.plot(hist.history['val_accuracy'])\n",
        "plt.title('model accuracy')\n",
        "plt.ylabel('accuracy')\n",
        "plt.xlabel('epoch')\n",
        "plt.legend(['train', 'test'], loc='lower right')\n",
        "plt.subplot(2,1,2)\n",
        "plt.plot(hist.history['loss'])\n",
        "plt.plot(hist.history['val_loss'])\n",
        "plt.title('model loss')\n",
        "plt.ylabel('loss')\n",
        "plt.xlabel('epoch')\n",
        "plt.legend(['train', 'test'], loc='upper right')\n",
        "plt.show()"
      ],
      "metadata": {
        "colab": {
          "base_uri": "https://localhost:8080/",
          "height": 295
        },
        "id": "7F0f9vHrupQE",
        "outputId": "f5d280bc-dbbb-421f-f774-768b49b6e668"
      },
      "execution_count": 42,
      "outputs": [
        {
          "output_type": "display_data",
          "data": {
            "image/png": "[encoded data removed]",
            "text/plain": [
              "<Figure size 432x288 with 2 Axes>"
            ]
          },
          "metadata": {
            "needs_background": "light"
          }
        }
      ]
    },
    {
      "cell_type": "markdown",
      "source": [
        "Q5- How do you interpret these results?\n",
        "The accuracy is higher than the previous model, but is it still showing overfitting.\n",
        "Q6- What is your recommendation to improve the accuracy? Implement your idea.\n",
        "We should add dropout and more epoches to the model."
      ],
      "metadata": {
        "id": "-sLaR9KLvPZF"
      }
    },
    {
      "cell_type": "code",
      "source": [
        "embedding_dim = 50\n",
        "model_3 = Sequential()\n",
        "model_3.add(layers.Embedding(input_dim=vocab_size,output_dim=embedding_dim,input_length=maxlen))\n",
        "model_3.add(layers.GlobalMaxPool1D())\n",
        "model_3.add(layers.Dense(10, activation='relu'))\n",
        "model_3.add(Dropout(0.15))\n",
        "model_3.add(layers.Dense(1, activation='sigmoid'))\n",
        "model_3.add(Dropout(0.15))\n",
        "model_3.compile(optimizer='adam', loss='binary_crossentropy',metrics=['accuracy'])\n",
        "model_3.summary()\n"
      ],
      "metadata": {
        "colab": {
          "base_uri": "https://localhost:8080/"
        },
        "id": "kcPTRVQsupV9",
        "outputId": "8be25d3d-8ee1-4467-8184-bf05f258beb4"
      },
      "execution_count": 44,
      "outputs": [
        {
          "output_type": "stream",
          "name": "stdout",
          "text": [
            "Model: \"sequential_4\"\n",
            "_________________________________________________________________\n",
            " Layer (type)                Output Shape              Param #   \n",
            "=================================================================\n",
            " embedding_1 (Embedding)     (None, 100, 50)           78700     \n",
            "                                                                 \n",
            " global_max_pooling1d_1 (Glo  (None, 50)               0         \n",
            " balMaxPooling1D)                                                \n",
            "                                                                 \n",
            " dense_10 (Dense)            (None, 10)                510       \n",
            "                                                                 \n",
            " dropout_5 (Dropout)         (None, 10)                0         \n",
            "                                                                 \n",
            " dense_11 (Dense)            (None, 1)                 11        \n",
            "                                                                 \n",
            " dropout_6 (Dropout)         (None, 1)                 0         \n",
            "                                                                 \n",
            "=================================================================\n",
            "Total params: 79,221\n",
            "Trainable params: 79,221\n",
            "Non-trainable params: 0\n",
            "_________________________________________________________________\n"
          ]
        }
      ]
    },
    {
      "cell_type": "code",
      "source": [
        "hist_3 = model_3.fit(X_train, y_train,\n",
        "epochs=100,\n",
        "validation_split=0.2,\n",
        "batch_size=10)\n",
        "loss, accuracy = model_3.evaluate(X_test, y_test, verbose=False)\n",
        "print(\"Accuracy: \",accuracy)"
      ],
      "metadata": {
        "colab": {
          "base_uri": "https://localhost:8080/"
        },
        "id": "6lXI4LrMupZs",
        "outputId": "25750829-317d-4e60-aed4-776ae5f2aaf6"
      },
      "execution_count": 46,
      "outputs": [
        {
          "output_type": "stream",
          "name": "stdout",
          "text": [
            "Epoch 1/100\n",
            "60/60 [==============================] - 2s 23ms/step - loss: 1.9015 - accuracy: 0.4850 - val_loss: 0.6863 - val_accuracy: 0.5133\n",
            "Epoch 2/100\n",
            "60/60 [==============================] - 1s 10ms/step - loss: 1.9310 - accuracy: 0.5500 - val_loss: 0.6694 - val_accuracy: 0.5867\n",
            "Epoch 3/100\n",
            "60/60 [==============================] - 1s 8ms/step - loss: 1.5434 - accuracy: 0.7433 - val_loss: 0.6176 - val_accuracy: 0.7600\n",
            "Epoch 4/100\n",
            "60/60 [==============================] - 1s 8ms/step - loss: 1.6722 - accuracy: 0.8200 - val_loss: 0.5516 - val_accuracy: 0.7800\n",
            "Epoch 5/100\n",
            "60/60 [==============================] - 1s 9ms/step - loss: 1.3594 - accuracy: 0.8817 - val_loss: 0.4896 - val_accuracy: 0.7933\n",
            "Epoch 6/100\n",
            "60/60 [==============================] - 0s 8ms/step - loss: 1.4420 - accuracy: 0.8867 - val_loss: 0.4441 - val_accuracy: 0.8200\n",
            "Epoch 7/100\n",
            "60/60 [==============================] - 1s 9ms/step - loss: 1.1510 - accuracy: 0.9017 - val_loss: 0.4184 - val_accuracy: 0.8267\n",
            "Epoch 8/100\n",
            "60/60 [==============================] - 0s 8ms/step - loss: 1.3892 - accuracy: 0.9000 - val_loss: 0.3977 - val_accuracy: 0.8133\n",
            "Epoch 9/100\n",
            "60/60 [==============================] - 1s 8ms/step - loss: 0.9821 - accuracy: 0.9217 - val_loss: 0.3798 - val_accuracy: 0.8667\n",
            "Epoch 10/100\n",
            "60/60 [==============================] - 0s 5ms/step - loss: 0.9260 - accuracy: 0.9350 - val_loss: 0.3770 - val_accuracy: 0.8467\n",
            "Epoch 11/100\n",
            "60/60 [==============================] - 0s 6ms/step - loss: 1.3059 - accuracy: 0.9083 - val_loss: 0.3729 - val_accuracy: 0.8400\n",
            "Epoch 12/100\n",
            "60/60 [==============================] - 0s 6ms/step - loss: 1.1927 - accuracy: 0.9167 - val_loss: 0.3792 - val_accuracy: 0.8467\n",
            "Epoch 13/100\n",
            "60/60 [==============================] - 0s 5ms/step - loss: 1.0538 - accuracy: 0.9333 - val_loss: 0.3707 - val_accuracy: 0.8533\n",
            "Epoch 14/100\n",
            "60/60 [==============================] - 0s 5ms/step - loss: 1.3296 - accuracy: 0.9150 - val_loss: 0.3756 - val_accuracy: 0.8400\n",
            "Epoch 15/100\n",
            "60/60 [==============================] - 0s 6ms/step - loss: 1.2538 - accuracy: 0.9200 - val_loss: 0.3861 - val_accuracy: 0.8200\n",
            "Epoch 16/100\n",
            "60/60 [==============================] - 0s 5ms/step - loss: 0.8094 - accuracy: 0.9483 - val_loss: 0.3885 - val_accuracy: 0.8200\n",
            "Epoch 17/100\n",
            "60/60 [==============================] - 0s 5ms/step - loss: 1.1407 - accuracy: 0.9267 - val_loss: 0.3843 - val_accuracy: 0.8333\n",
            "Epoch 18/100\n",
            "60/60 [==============================] - 0s 6ms/step - loss: 1.5252 - accuracy: 0.9017 - val_loss: 0.3857 - val_accuracy: 0.8267\n",
            "Epoch 19/100\n",
            "60/60 [==============================] - 0s 5ms/step - loss: 1.1900 - accuracy: 0.9233 - val_loss: 0.3867 - val_accuracy: 0.8200\n",
            "Epoch 20/100\n",
            "60/60 [==============================] - 0s 5ms/step - loss: 0.9857 - accuracy: 0.9350 - val_loss: 0.3936 - val_accuracy: 0.8200\n",
            "Epoch 21/100\n",
            "60/60 [==============================] - 0s 6ms/step - loss: 1.0646 - accuracy: 0.9300 - val_loss: 0.4000 - val_accuracy: 0.8200\n",
            "Epoch 22/100\n",
            "60/60 [==============================] - 0s 6ms/step - loss: 1.2148 - accuracy: 0.9217 - val_loss: 0.3994 - val_accuracy: 0.8200\n",
            "Epoch 23/100\n",
            "60/60 [==============================] - 0s 5ms/step - loss: 1.0065 - accuracy: 0.9350 - val_loss: 0.4126 - val_accuracy: 0.8200\n",
            "Epoch 24/100\n",
            "60/60 [==============================] - 0s 5ms/step - loss: 0.9067 - accuracy: 0.9417 - val_loss: 0.4205 - val_accuracy: 0.8200\n",
            "Epoch 25/100\n",
            "60/60 [==============================] - 0s 5ms/step - loss: 1.5205 - accuracy: 0.9017 - val_loss: 0.4178 - val_accuracy: 0.8133\n",
            "Epoch 26/100\n",
            "60/60 [==============================] - 0s 5ms/step - loss: 1.0069 - accuracy: 0.9350 - val_loss: 0.4144 - val_accuracy: 0.8200\n",
            "Epoch 27/100\n",
            "60/60 [==============================] - 0s 6ms/step - loss: 1.1859 - accuracy: 0.9233 - val_loss: 0.4328 - val_accuracy: 0.8200\n",
            "Epoch 28/100\n",
            "60/60 [==============================] - 0s 5ms/step - loss: 1.2886 - accuracy: 0.9167 - val_loss: 0.4269 - val_accuracy: 0.8200\n",
            "Epoch 29/100\n",
            "60/60 [==============================] - 0s 6ms/step - loss: 1.3661 - accuracy: 0.9117 - val_loss: 0.4367 - val_accuracy: 0.8200\n",
            "Epoch 30/100\n",
            "60/60 [==============================] - 0s 6ms/step - loss: 1.1598 - accuracy: 0.9250 - val_loss: 0.4362 - val_accuracy: 0.8200\n",
            "Epoch 31/100\n",
            "60/60 [==============================] - 0s 5ms/step - loss: 1.0052 - accuracy: 0.9350 - val_loss: 0.4264 - val_accuracy: 0.8200\n",
            "Epoch 32/100\n",
            "60/60 [==============================] - 0s 6ms/step - loss: 0.9531 - accuracy: 0.9383 - val_loss: 0.4383 - val_accuracy: 0.8267\n",
            "Epoch 33/100\n",
            "60/60 [==============================] - 0s 5ms/step - loss: 1.0812 - accuracy: 0.9300 - val_loss: 0.4447 - val_accuracy: 0.8200\n",
            "Epoch 34/100\n",
            "60/60 [==============================] - 0s 6ms/step - loss: 1.1596 - accuracy: 0.9250 - val_loss: 0.4520 - val_accuracy: 0.8200\n",
            "Epoch 35/100\n",
            "60/60 [==============================] - 0s 6ms/step - loss: 1.0046 - accuracy: 0.9350 - val_loss: 0.4602 - val_accuracy: 0.8200\n",
            "Epoch 36/100\n",
            "60/60 [==============================] - 0s 6ms/step - loss: 1.1070 - accuracy: 0.9283 - val_loss: 0.4729 - val_accuracy: 0.8267\n",
            "Epoch 37/100\n",
            "60/60 [==============================] - 0s 5ms/step - loss: 1.2626 - accuracy: 0.9183 - val_loss: 0.4566 - val_accuracy: 0.8267\n",
            "Epoch 38/100\n",
            "60/60 [==============================] - 0s 5ms/step - loss: 1.0817 - accuracy: 0.9300 - val_loss: 0.4544 - val_accuracy: 0.8333\n",
            "Epoch 39/100\n",
            "60/60 [==============================] - 0s 6ms/step - loss: 1.0556 - accuracy: 0.9317 - val_loss: 0.4490 - val_accuracy: 0.8333\n",
            "Epoch 40/100\n",
            "60/60 [==============================] - 0s 6ms/step - loss: 0.9533 - accuracy: 0.9383 - val_loss: 0.4580 - val_accuracy: 0.8267\n",
            "Epoch 41/100\n",
            "60/60 [==============================] - 0s 5ms/step - loss: 1.3900 - accuracy: 0.9100 - val_loss: 0.4797 - val_accuracy: 0.8267\n",
            "Epoch 42/100\n",
            "60/60 [==============================] - 0s 5ms/step - loss: 1.1589 - accuracy: 0.9250 - val_loss: 0.4787 - val_accuracy: 0.8333\n",
            "Epoch 43/100\n",
            "60/60 [==============================] - 0s 6ms/step - loss: 1.4668 - accuracy: 0.9050 - val_loss: 0.4934 - val_accuracy: 0.8333\n",
            "Epoch 44/100\n",
            "60/60 [==============================] - 0s 5ms/step - loss: 1.1837 - accuracy: 0.9233 - val_loss: 0.4920 - val_accuracy: 0.8333\n",
            "Epoch 45/100\n",
            "60/60 [==============================] - 0s 6ms/step - loss: 1.1321 - accuracy: 0.9267 - val_loss: 0.4955 - val_accuracy: 0.8333\n",
            "Epoch 46/100\n",
            "60/60 [==============================] - 0s 6ms/step - loss: 1.1321 - accuracy: 0.9267 - val_loss: 0.4954 - val_accuracy: 0.8267\n",
            "Epoch 47/100\n",
            "60/60 [==============================] - 0s 6ms/step - loss: 1.0298 - accuracy: 0.9333 - val_loss: 0.4924 - val_accuracy: 0.8267\n",
            "Epoch 48/100\n",
            "60/60 [==============================] - 0s 5ms/step - loss: 1.3121 - accuracy: 0.9150 - val_loss: 0.4992 - val_accuracy: 0.8267\n",
            "Epoch 49/100\n",
            "60/60 [==============================] - 0s 5ms/step - loss: 1.0288 - accuracy: 0.9333 - val_loss: 0.5119 - val_accuracy: 0.8200\n",
            "Epoch 50/100\n",
            "60/60 [==============================] - 0s 5ms/step - loss: 1.2607 - accuracy: 0.9183 - val_loss: 0.4896 - val_accuracy: 0.8200\n",
            "Epoch 51/100\n",
            "60/60 [==============================] - 0s 5ms/step - loss: 1.2605 - accuracy: 0.9183 - val_loss: 0.4912 - val_accuracy: 0.8200\n",
            "Epoch 52/100\n",
            "60/60 [==============================] - 0s 5ms/step - loss: 1.0037 - accuracy: 0.9350 - val_loss: 0.5013 - val_accuracy: 0.8200\n",
            "Epoch 53/100\n",
            "60/60 [==============================] - 0s 6ms/step - loss: 1.2087 - accuracy: 0.9217 - val_loss: 0.5144 - val_accuracy: 0.8200\n",
            "Epoch 54/100\n",
            "60/60 [==============================] - 0s 5ms/step - loss: 1.3632 - accuracy: 0.9117 - val_loss: 0.5150 - val_accuracy: 0.8267\n",
            "Epoch 55/100\n",
            "60/60 [==============================] - 0s 6ms/step - loss: 1.0807 - accuracy: 0.9300 - val_loss: 0.5001 - val_accuracy: 0.8200\n",
            "Epoch 56/100\n",
            "60/60 [==============================] - 0s 5ms/step - loss: 0.8494 - accuracy: 0.9450 - val_loss: 0.4970 - val_accuracy: 0.8200\n",
            "Epoch 57/100\n",
            "60/60 [==============================] - 0s 5ms/step - loss: 1.2864 - accuracy: 0.9167 - val_loss: 0.5030 - val_accuracy: 0.8200\n",
            "Epoch 58/100\n",
            "60/60 [==============================] - 0s 5ms/step - loss: 0.9258 - accuracy: 0.9400 - val_loss: 0.5070 - val_accuracy: 0.8200\n",
            "Epoch 59/100\n",
            "60/60 [==============================] - 0s 5ms/step - loss: 1.0803 - accuracy: 0.9300 - val_loss: 0.5196 - val_accuracy: 0.8133\n",
            "Epoch 60/100\n",
            "60/60 [==============================] - 0s 5ms/step - loss: 1.1834 - accuracy: 0.9233 - val_loss: 0.5169 - val_accuracy: 0.8133\n",
            "Epoch 61/100\n",
            "60/60 [==============================] - 0s 6ms/step - loss: 1.1316 - accuracy: 0.9267 - val_loss: 0.5213 - val_accuracy: 0.8133\n",
            "Epoch 62/100\n",
            "60/60 [==============================] - 0s 6ms/step - loss: 0.9264 - accuracy: 0.9400 - val_loss: 0.5215 - val_accuracy: 0.8200\n",
            "Epoch 63/100\n",
            "60/60 [==============================] - 0s 6ms/step - loss: 1.0544 - accuracy: 0.9317 - val_loss: 0.5187 - val_accuracy: 0.8133\n",
            "Epoch 64/100\n",
            "60/60 [==============================] - 0s 6ms/step - loss: 1.0544 - accuracy: 0.9317 - val_loss: 0.5255 - val_accuracy: 0.8200\n",
            "Epoch 65/100\n",
            "60/60 [==============================] - 0s 5ms/step - loss: 0.9773 - accuracy: 0.9367 - val_loss: 0.5208 - val_accuracy: 0.8133\n",
            "Epoch 66/100\n",
            "60/60 [==============================] - 0s 6ms/step - loss: 0.8492 - accuracy: 0.9450 - val_loss: 0.5428 - val_accuracy: 0.8200\n",
            "Epoch 67/100\n",
            "60/60 [==============================] - 0s 6ms/step - loss: 1.1066 - accuracy: 0.9283 - val_loss: 0.5428 - val_accuracy: 0.8200\n",
            "Epoch 68/100\n",
            "60/60 [==============================] - 0s 5ms/step - loss: 1.3379 - accuracy: 0.9133 - val_loss: 0.5085 - val_accuracy: 0.8200\n",
            "Epoch 69/100\n",
            "60/60 [==============================] - 0s 5ms/step - loss: 1.4142 - accuracy: 0.9083 - val_loss: 0.5161 - val_accuracy: 0.8200\n",
            "Epoch 70/100\n",
            "60/60 [==============================] - 0s 5ms/step - loss: 1.2859 - accuracy: 0.9167 - val_loss: 0.5282 - val_accuracy: 0.8200\n",
            "Epoch 71/100\n",
            "60/60 [==============================] - 0s 5ms/step - loss: 1.3887 - accuracy: 0.9100 - val_loss: 0.5379 - val_accuracy: 0.8200\n",
            "Epoch 72/100\n",
            "60/60 [==============================] - 0s 5ms/step - loss: 0.8235 - accuracy: 0.9467 - val_loss: 0.5489 - val_accuracy: 0.8200\n",
            "Epoch 73/100\n",
            "60/60 [==============================] - 0s 6ms/step - loss: 1.2857 - accuracy: 0.9167 - val_loss: 0.5579 - val_accuracy: 0.8200\n",
            "Epoch 74/100\n",
            "60/60 [==============================] - 0s 5ms/step - loss: 1.1057 - accuracy: 0.9283 - val_loss: 0.5648 - val_accuracy: 0.8200\n",
            "Epoch 75/100\n",
            "60/60 [==============================] - 0s 6ms/step - loss: 1.2342 - accuracy: 0.9200 - val_loss: 0.5704 - val_accuracy: 0.8200\n",
            "Epoch 76/100\n",
            "60/60 [==============================] - 0s 5ms/step - loss: 1.3114 - accuracy: 0.9150 - val_loss: 0.5678 - val_accuracy: 0.8200\n",
            "Epoch 77/100\n",
            "60/60 [==============================] - 0s 6ms/step - loss: 1.2598 - accuracy: 0.9183 - val_loss: 0.5760 - val_accuracy: 0.8267\n",
            "Epoch 78/100\n",
            "60/60 [==============================] - 0s 6ms/step - loss: 1.2087 - accuracy: 0.9217 - val_loss: 0.5929 - val_accuracy: 0.8333\n",
            "Epoch 79/100\n",
            "60/60 [==============================] - 0s 5ms/step - loss: 1.2341 - accuracy: 0.9200 - val_loss: 0.6007 - val_accuracy: 0.8267\n",
            "Epoch 80/100\n",
            "60/60 [==============================] - 0s 6ms/step - loss: 1.2861 - accuracy: 0.9167 - val_loss: 0.6063 - val_accuracy: 0.8267\n",
            "Epoch 81/100\n",
            "60/60 [==============================] - 0s 6ms/step - loss: 1.1841 - accuracy: 0.9217 - val_loss: 0.6271 - val_accuracy: 0.8267\n",
            "Epoch 82/100\n",
            "60/60 [==============================] - 0s 6ms/step - loss: 0.9002 - accuracy: 0.9417 - val_loss: 0.6015 - val_accuracy: 0.8333\n",
            "Epoch 83/100\n",
            "60/60 [==============================] - 0s 6ms/step - loss: 0.8486 - accuracy: 0.9450 - val_loss: 0.6079 - val_accuracy: 0.8333\n",
            "Epoch 84/100\n",
            "60/60 [==============================] - 0s 6ms/step - loss: 1.1570 - accuracy: 0.9250 - val_loss: 0.6143 - val_accuracy: 0.8333\n",
            "Epoch 85/100\n",
            "60/60 [==============================] - 0s 5ms/step - loss: 1.2342 - accuracy: 0.9200 - val_loss: 0.6166 - val_accuracy: 0.8333\n",
            "Epoch 86/100\n",
            "60/60 [==============================] - 0s 6ms/step - loss: 1.2856 - accuracy: 0.9167 - val_loss: 0.5920 - val_accuracy: 0.8267\n",
            "Epoch 87/100\n",
            "60/60 [==============================] - 0s 5ms/step - loss: 1.3125 - accuracy: 0.9150 - val_loss: 0.5728 - val_accuracy: 0.8267\n",
            "Epoch 88/100\n",
            "60/60 [==============================] - 0s 5ms/step - loss: 1.1571 - accuracy: 0.9250 - val_loss: 0.5866 - val_accuracy: 0.8200\n",
            "Epoch 89/100\n",
            "60/60 [==============================] - 0s 5ms/step - loss: 1.1827 - accuracy: 0.9233 - val_loss: 0.5940 - val_accuracy: 0.8200\n",
            "Epoch 90/100\n",
            "60/60 [==============================] - 0s 6ms/step - loss: 1.2600 - accuracy: 0.9183 - val_loss: 0.6080 - val_accuracy: 0.8200\n",
            "Epoch 91/100\n",
            "60/60 [==============================] - 0s 6ms/step - loss: 0.9514 - accuracy: 0.9383 - val_loss: 0.6066 - val_accuracy: 0.8200\n",
            "Epoch 92/100\n",
            "60/60 [==============================] - 0s 5ms/step - loss: 1.1570 - accuracy: 0.9250 - val_loss: 0.6133 - val_accuracy: 0.8267\n",
            "Epoch 93/100\n",
            "60/60 [==============================] - 0s 6ms/step - loss: 1.0800 - accuracy: 0.9300 - val_loss: 0.6212 - val_accuracy: 0.8333\n",
            "Epoch 94/100\n",
            "60/60 [==============================] - 0s 5ms/step - loss: 1.1313 - accuracy: 0.9267 - val_loss: 0.6327 - val_accuracy: 0.8333\n",
            "Epoch 95/100\n",
            "60/60 [==============================] - 0s 5ms/step - loss: 1.2857 - accuracy: 0.9167 - val_loss: 0.6456 - val_accuracy: 0.8333\n",
            "Epoch 96/100\n",
            "60/60 [==============================] - 0s 5ms/step - loss: 1.1570 - accuracy: 0.9250 - val_loss: 0.6306 - val_accuracy: 0.8267\n",
            "Epoch 97/100\n",
            "60/60 [==============================] - 0s 5ms/step - loss: 1.0299 - accuracy: 0.9317 - val_loss: 0.6125 - val_accuracy: 0.8200\n",
            "Epoch 98/100\n",
            "60/60 [==============================] - 0s 6ms/step - loss: 1.0800 - accuracy: 0.9300 - val_loss: 0.6226 - val_accuracy: 0.8200\n",
            "Epoch 99/100\n",
            "60/60 [==============================] - 0s 6ms/step - loss: 1.2087 - accuracy: 0.9217 - val_loss: 0.6301 - val_accuracy: 0.8133\n",
            "Epoch 100/100\n",
            "60/60 [==============================] - 0s 6ms/step - loss: 1.2599 - accuracy: 0.9183 - val_loss: 0.6353 - val_accuracy: 0.8133\n",
            "Accuracy:  0.7960000038146973\n"
          ]
        }
      ]
    },
    {
      "cell_type": "code",
      "source": [
        "%shell jupyter nbconvert --to html '//content/gdrive/My Drive/Colab Notebooks/Test.ipynb'"
      ],
      "metadata": {
        "colab": {
          "base_uri": "https://localhost:8080/"
        },
        "id": "zzq4G9T1upcm",
        "outputId": "113bc049-f882-4a0f-9f74-ecaf1218fbf6"
      },
      "execution_count": 47,
      "outputs": [
        {
          "output_type": "stream",
          "name": "stdout",
          "text": [
            "[NbConvertApp] Converting notebook //content/gdrive/My Drive/Colab Notebooks/Test.ipynb to html\n",
            "[NbConvertApp] Writing 464636 bytes to //content/gdrive/My Drive/Colab Notebooks/Test.html\n"
          ]
        },
        {
          "output_type": "execute_result",
          "data": {
            "text/plain": [
              ""
            ]
          },
          "metadata": {},
          "execution_count": 47
        }
      ]
    },
    {
      "cell_type": "code",
      "source": [
        ""
      ],
      "metadata": {
        "id": "CFExOI-wupfj"
      },
      "execution_count": null,
      "outputs": []
    },
    {
      "cell_type": "code",
      "source": [
        ""
      ],
      "metadata": {
        "id": "Z-iqGpWPqhZC"
      },
      "execution_count": null,
      "outputs": []
    }
  ]
}