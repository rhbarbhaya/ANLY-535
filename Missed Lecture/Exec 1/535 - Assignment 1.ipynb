{
 "cells": [
  {
   "cell_type": "markdown",
   "id": "0923dd55",
   "metadata": {},
   "source": [
    "# Assignment 1 - ANLY 535\n",
    "### Date: 11/28/2021\n",
    "### Rushabh Barbhaya"
   ]
  },
  {
   "cell_type": "code",
   "execution_count": 1,
   "id": "578a5dbf",
   "metadata": {},
   "outputs": [],
   "source": [
    "import numpy as np"
   ]
  },
  {
   "cell_type": "markdown",
   "id": "4a435320",
   "metadata": {},
   "source": [
    "W1 is 2x5\n",
    "First layer W = 2x5 and b = 5x1"
   ]
  },
  {
   "cell_type": "code",
   "execution_count": 2,
   "id": "1bad2ffb",
   "metadata": {},
   "outputs": [
    {
     "data": {
      "text/plain": [
       "array([[0.48966863],\n",
       "       [0.61544854],\n",
       "       [0.62467448],\n",
       "       [0.08738796],\n",
       "       [0.90462271]])"
      ]
     },
     "execution_count": 2,
     "metadata": {},
     "output_type": "execute_result"
    }
   ],
   "source": [
    "np.random.seed(seed=289)\n",
    "_input = np.array([[0.3], [0.4]])\n",
    "W1 = np.random.rand(2, 5)\n",
    "b1 = np.random.rand(5, 1)\n",
    "b1"
   ]
  },
  {
   "cell_type": "code",
   "execution_count": 3,
   "id": "25d2549f",
   "metadata": {},
   "outputs": [
    {
     "data": {
      "text/plain": [
       "array([[0.89019087],\n",
       "       [0.93947114],\n",
       "       [0.84754806],\n",
       "       [0.35762942],\n",
       "       [1.39493903]])"
      ]
     },
     "execution_count": 3,
     "metadata": {},
     "output_type": "execute_result"
    }
   ],
   "source": [
    "z1 = np.dot(W1.transpose(), _input)+b1\n",
    "z1"
   ]
  },
  {
   "cell_type": "markdown",
   "id": "090d03aa",
   "metadata": {},
   "source": [
    "sigmoid = 1/(1-(e^-z))"
   ]
  },
  {
   "cell_type": "code",
   "execution_count": 4,
   "id": "e2d3fab4",
   "metadata": {},
   "outputs": [
    {
     "data": {
      "text/plain": [
       "array([[0.70892956],\n",
       "       [0.71899282],\n",
       "       [0.70005254],\n",
       "       [0.58846646],\n",
       "       [0.80137956]])"
      ]
     },
     "execution_count": 4,
     "metadata": {},
     "output_type": "execute_result"
    }
   ],
   "source": [
    "a1 = 1/(1+np.exp(-z1))\n",
    "a1"
   ]
  },
  {
   "cell_type": "markdown",
   "id": "b01db0b5",
   "metadata": {},
   "source": [
    "W2 is 1x5\n",
    "b2 is 1x1"
   ]
  },
  {
   "cell_type": "code",
   "execution_count": 5,
   "id": "fa6f5cd5",
   "metadata": {},
   "outputs": [
    {
     "data": {
      "text/plain": [
       "array([[2.6055998]])"
      ]
     },
     "execution_count": 5,
     "metadata": {},
     "output_type": "execute_result"
    }
   ],
   "source": [
    "np.random.seed(seed=289)\n",
    "W2 = np.random.rand(5, 1)\n",
    "b2 = np.random.rand(1, 1)\n",
    "z2 = np.dot(W2.transpose(), a1)+b2\n",
    "z2"
   ]
  },
  {
   "cell_type": "code",
   "execution_count": 6,
   "id": "9522fa4f",
   "metadata": {},
   "outputs": [
    {
     "data": {
      "text/plain": [
       "array([[0.9312211]])"
      ]
     },
     "execution_count": 6,
     "metadata": {},
     "output_type": "execute_result"
    }
   ],
   "source": [
    "a2 = 1/(1+np.exp(-z2))\n",
    "a2"
   ]
  },
  {
   "cell_type": "markdown",
   "id": "03a13589",
   "metadata": {},
   "source": [
    "#### Following the lecture notes for the logic to this assignment. Two sensor inputs are 0.3 and 0.4 and with the seed set, we get the output as 0.93.\n",
    "#### So there is 93% chance of flood"
   ]
  }
 ],
 "metadata": {
  "kernelspec": {
   "display_name": "Python 3",
   "language": "python",
   "name": "python3"
  },
  "language_info": {
   "codemirror_mode": {
    "name": "ipython",
    "version": 3
   },
   "file_extension": ".py",
   "mimetype": "text/x-python",
   "name": "python",
   "nbconvert_exporter": "python",
   "pygments_lexer": "ipython3",
   "version": "3.8.8"
  }
 },
 "nbformat": 4,
 "nbformat_minor": 5
}
