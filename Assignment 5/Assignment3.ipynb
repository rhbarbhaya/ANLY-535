{
 "cells": [
  {
   "cell_type": "markdown",
   "metadata": {},
   "source": [
    "### Assignment 3\n",
    "#### Rushabh Barbhaya\n",
    "#### 12/12/21\n",
    "\n",
    "**Summary** \\\n",
    "Question 1: Accurary is 11.35% \\\n",
    "Question 2: Didn't improve on the model; Accurary = 11.35% \\\n",
    "Question 3: Adding another layer also didn't prove fruitful; Accurary = 11.35%"
   ]
  },
  {
   "cell_type": "code",
   "execution_count": 1,
   "metadata": {},
   "outputs": [],
   "source": [
    "import numpy\n",
    "from tensorflow.keras.datasets import mnist\n",
    "import matplotlib.pyplot as plt\n",
    "from keras.utils import np_utils\n",
    "from tensorflow.keras.models import Sequential\n",
    "from tensorflow.keras.layers import Dense"
   ]
  },
  {
   "cell_type": "code",
   "execution_count": 2,
   "metadata": {},
   "outputs": [
    {
     "data": {
      "image/png": "[encoded data removed]",
      "text/plain": [
       "<Figure size 432x288 with 4 Axes>"
      ]
     },
     "metadata": {
      "needs_background": "light"
     },
     "output_type": "display_data"
    }
   ],
   "source": [
    "(X_train, y_train), (X_test, y_test) = mnist.load_data()\n",
    "plt.subplot(221)\n",
    "plt.imshow(X_train[0], cmap=plt.get_cmap('gray'))\n",
    "plt.subplot(222)\n",
    "plt.imshow(X_train[1], cmap=plt.get_cmap('gray'))\n",
    "plt.subplot(223)\n",
    "plt.imshow(X_train[2], cmap=plt.get_cmap('gray'))\n",
    "plt.subplot(224)\n",
    "plt.imshow(X_train[3], cmap=plt.get_cmap('gray'))\n",
    "plt.show()"
   ]
  },
  {
   "cell_type": "code",
   "execution_count": 3,
   "metadata": {},
   "outputs": [],
   "source": [
    "num_pixels = X_train.shape[1]*X_train.shape[2]\n",
    "X_train = X_train.reshape(X_train.shape[0], num_pixels)\n",
    "X_test = X_test.reshape(X_test.shape[0], num_pixels)\n",
    "X_train = X_train/255\n",
    "X_test = X_test/255\n",
    "Y_test = y_test\n",
    "y_train = np_utils.to_categorical(y_train)\n",
    "y_test = np_utils.to_categorical(y_test)\n",
    "num_classes = y_test.shape[1]"
   ]
  },
  {
   "cell_type": "code",
   "execution_count": 4,
   "metadata": {},
   "outputs": [
    {
     "name": "stdout",
     "output_type": "stream",
     "text": [
      "Epoch 1/25\n",
      "300/300 [==============================] - 2s 6ms/step - loss: 0.1807 - accuracy: 0.0992 - val_loss: 0.1342 - val_accuracy: 0.1009\n",
      "Epoch 2/25\n",
      "300/300 [==============================] - 1s 4ms/step - loss: 0.1177 - accuracy: 0.1045 - val_loss: 0.1069 - val_accuracy: 0.1543\n",
      "Epoch 3/25\n",
      "300/300 [==============================] - 1s 3ms/step - loss: 0.1019 - accuracy: 0.1239 - val_loss: 0.0983 - val_accuracy: 0.1135\n",
      "Epoch 4/25\n",
      "300/300 [==============================] - 1s 3ms/step - loss: 0.0962 - accuracy: 0.1124 - val_loss: 0.0946 - val_accuracy: 0.1135\n",
      "Epoch 5/25\n",
      "300/300 [==============================] - 1s 3ms/step - loss: 0.0936 - accuracy: 0.1124 - val_loss: 0.0928 - val_accuracy: 0.1135\n",
      "Epoch 6/25\n",
      "300/300 [==============================] - 1s 4ms/step - loss: 0.0922 - accuracy: 0.1124 - val_loss: 0.0918 - val_accuracy: 0.1135\n",
      "Epoch 7/25\n",
      "300/300 [==============================] - 1s 4ms/step - loss: 0.0915 - accuracy: 0.1124 - val_loss: 0.0912 - val_accuracy: 0.1135\n",
      "Epoch 8/25\n",
      "300/300 [==============================] - 1s 4ms/step - loss: 0.0910 - accuracy: 0.1124 - val_loss: 0.0908 - val_accuracy: 0.1135\n",
      "Epoch 9/25\n",
      "300/300 [==============================] - 1s 3ms/step - loss: 0.0907 - accuracy: 0.1124 - val_loss: 0.0906 - val_accuracy: 0.1135\n",
      "Epoch 10/25\n",
      "300/300 [==============================] - 1s 4ms/step - loss: 0.0905 - accuracy: 0.1124 - val_loss: 0.0904 - val_accuracy: 0.1135\n",
      "Epoch 11/25\n",
      "300/300 [==============================] - 1s 4ms/step - loss: 0.0903 - accuracy: 0.1124 - val_loss: 0.0903 - val_accuracy: 0.1135\n",
      "Epoch 12/25\n",
      "300/300 [==============================] - 1s 4ms/step - loss: 0.0902 - accuracy: 0.1124 - val_loss: 0.0902 - val_accuracy: 0.1135\n",
      "Epoch 13/25\n",
      "300/300 [==============================] - 1s 4ms/step - loss: 0.0902 - accuracy: 0.1124 - val_loss: 0.0901 - val_accuracy: 0.1135\n",
      "Epoch 14/25\n",
      "300/300 [==============================] - 1s 3ms/step - loss: 0.0901 - accuracy: 0.1124 - val_loss: 0.0901 - val_accuracy: 0.1135\n",
      "Epoch 15/25\n",
      "300/300 [==============================] - 1s 4ms/step - loss: 0.0901 - accuracy: 0.1124 - val_loss: 0.0900 - val_accuracy: 0.1135\n",
      "Epoch 16/25\n",
      "300/300 [==============================] - 1s 3ms/step - loss: 0.0900 - accuracy: 0.1124 - val_loss: 0.0900 - val_accuracy: 0.1135\n",
      "Epoch 17/25\n",
      "300/300 [==============================] - 1s 3ms/step - loss: 0.0900 - accuracy: 0.1124 - val_loss: 0.0900 - val_accuracy: 0.1135\n",
      "Epoch 18/25\n",
      "300/300 [==============================] - 1s 3ms/step - loss: 0.0900 - accuracy: 0.1124 - val_loss: 0.0900 - val_accuracy: 0.1135\n",
      "Epoch 19/25\n",
      "300/300 [==============================] - 1s 3ms/step - loss: 0.0900 - accuracy: 0.1124 - val_loss: 0.0900 - val_accuracy: 0.1135\n",
      "Epoch 20/25\n",
      "300/300 [==============================] - ETA: 0s - loss: 0.0900 - accuracy: 0.11 - 1s 3ms/step - loss: 0.0900 - accuracy: 0.1124 - val_loss: 0.0900 - val_accuracy: 0.1135\n",
      "Epoch 21/25\n",
      "300/300 [==============================] - 1s 3ms/step - loss: 0.0900 - accuracy: 0.1124 - val_loss: 0.0900 - val_accuracy: 0.1135\n",
      "Epoch 22/25\n",
      "300/300 [==============================] - 1s 3ms/step - loss: 0.0900 - accuracy: 0.1124 - val_loss: 0.0900 - val_accuracy: 0.1135\n",
      "Epoch 23/25\n",
      "300/300 [==============================] - 1s 3ms/step - loss: 0.0900 - accuracy: 0.1124 - val_loss: 0.0900 - val_accuracy: 0.1135\n",
      "Epoch 24/25\n",
      "300/300 [==============================] - 1s 3ms/step - loss: 0.0900 - accuracy: 0.1124 - val_loss: 0.0900 - val_accuracy: 0.1135\n",
      "Epoch 25/25\n",
      "300/300 [==============================] - 1s 3ms/step - loss: 0.0900 - accuracy: 0.1124 - val_loss: 0.0899 - val_accuracy: 0.1135\n",
      "313/313 - 1s - loss: 0.0899 - accuracy: 0.1135 - 589ms/epoch - 2ms/step\n",
      "Baseline Error: 88.65%\n",
      "Baseline Accuracy: 11.35%\n"
     ]
    },
    {
     "data": {
      "image/png": "[encoded data removed]",
      "text/plain": [
       "<Figure size 432x288 with 2 Axes>"
      ]
     },
     "metadata": {
      "needs_background": "light"
     },
     "output_type": "display_data"
    }
   ],
   "source": [
    "## Question 1\n",
    "\"\"\"\n",
    "Change the number of neurons in hidden layers to 75. See the accuracy and compared it to the baseline.\n",
    "\"\"\"\n",
    "\n",
    "hidden_layers = 75\n",
    "\n",
    "def baseline_model():\n",
    "    model = Sequential()\n",
    "    model.add(Dense(hidden_layers, input_dim=num_pixels, kernel_initializer = 'normal', activation='sigmoid'))\n",
    "    model.add(Dense(hidden_layers, kernel_initializer = 'normal', activation='sigmoid'))\n",
    "    model.add(Dense(num_classes, kernel_initializer = 'normal', activation='sigmoid'))\n",
    "    model.compile(loss='mean_squared_error', optimizer='sgd', metrics=['accuracy'])\n",
    "    return model\n",
    "\n",
    "model = baseline_model()\n",
    "q1Model = model.fit(X_train, y_train, validation_data=(X_test, y_test), epochs=25, batch_size=200)\n",
    "scores = model.evaluate(X_test, y_test, verbose=2)\n",
    "print(\"Baseline Error: %.2f%%\" % (100-scores[1]*100))\n",
    "print(\"Baseline Accuracy: %.2f%%\" % (scores[1]*100))\n",
    "\n",
    "plt.subplot(211)\n",
    "plt.plot(q1Model.history['accuracy'])\n",
    "plt.plot(q1Model.history['val_loss'])\n",
    "plt.title('Model Accuracy')\n",
    "plt.xlabel('accurary')\n",
    "plt.ylabel('epoch')\n",
    "plt.legend(['train', 'test'], loc='lower right')\n",
    "\n",
    "plt.subplot(212)\n",
    "plt.plot(q1Model.history['loss'])\n",
    "plt.plot(q1Model.history['val_loss'])\n",
    "plt.title('Model Loss')\n",
    "plt.ylabel('loss')\n",
    "plt.xlabel('epoch')\n",
    "plt.legend(['train', 'test'], loc='upper right')\n",
    "plt.show()"
   ]
  },
  {
   "cell_type": "code",
   "execution_count": 5,
   "metadata": {},
   "outputs": [
    {
     "name": "stdout",
     "output_type": "stream",
     "text": [
      "Epoch 1/35\n",
      "300/300 [==============================] - 2s 4ms/step - loss: 0.1919 - accuracy: 0.0986 - val_loss: 0.1524 - val_accuracy: 0.0958\n",
      "Epoch 2/35\n",
      "300/300 [==============================] - 1s 3ms/step - loss: 0.1332 - accuracy: 0.0986 - val_loss: 0.1193 - val_accuracy: 0.0958\n",
      "Epoch 3/35\n",
      "300/300 [==============================] - 1s 4ms/step - loss: 0.1117 - accuracy: 0.0986 - val_loss: 0.1060 - val_accuracy: 0.0963\n",
      "Epoch 4/35\n",
      "300/300 [==============================] - 1s 3ms/step - loss: 0.1025 - accuracy: 0.1101 - val_loss: 0.0996 - val_accuracy: 0.1248\n",
      "Epoch 5/35\n",
      "300/300 [==============================] - 1s 3ms/step - loss: 0.0978 - accuracy: 0.1317 - val_loss: 0.0962 - val_accuracy: 0.1287\n",
      "Epoch 6/35\n",
      "300/300 [==============================] - 1s 3ms/step - loss: 0.0952 - accuracy: 0.1164 - val_loss: 0.0942 - val_accuracy: 0.1135\n",
      "Epoch 7/35\n",
      "300/300 [==============================] - 1s 5ms/step - loss: 0.0936 - accuracy: 0.1124 - val_loss: 0.0930 - val_accuracy: 0.1135\n",
      "Epoch 8/35\n",
      "300/300 [==============================] - 1s 3ms/step - loss: 0.0925 - accuracy: 0.1124 - val_loss: 0.0922 - val_accuracy: 0.1135\n",
      "Epoch 9/35\n",
      "300/300 [==============================] - 1s 3ms/step - loss: 0.0919 - accuracy: 0.1124 - val_loss: 0.0916 - val_accuracy: 0.1135\n",
      "Epoch 10/35\n",
      "300/300 [==============================] - 1s 3ms/step - loss: 0.0914 - accuracy: 0.1124 - val_loss: 0.0912 - val_accuracy: 0.1135\n",
      "Epoch 11/35\n",
      "300/300 [==============================] - 1s 4ms/step - loss: 0.0910 - accuracy: 0.1124 - val_loss: 0.0909 - val_accuracy: 0.1135\n",
      "Epoch 12/35\n",
      "300/300 [==============================] - 1s 3ms/step - loss: 0.0908 - accuracy: 0.1124 - val_loss: 0.0907 - val_accuracy: 0.1135\n",
      "Epoch 13/35\n",
      "300/300 [==============================] - 1s 3ms/step - loss: 0.0906 - accuracy: 0.1124 - val_loss: 0.0905 - val_accuracy: 0.1135\n",
      "Epoch 14/35\n",
      "300/300 [==============================] - 1s 3ms/step - loss: 0.0905 - accuracy: 0.1124 - val_loss: 0.0904 - val_accuracy: 0.1135\n",
      "Epoch 15/35\n",
      "300/300 [==============================] - 1s 4ms/step - loss: 0.0904 - accuracy: 0.1124 - val_loss: 0.0903 - val_accuracy: 0.1135\n",
      "Epoch 16/35\n",
      "300/300 [==============================] - 1s 3ms/step - loss: 0.0903 - accuracy: 0.1124 - val_loss: 0.0903 - val_accuracy: 0.1135\n",
      "Epoch 17/35\n",
      "300/300 [==============================] - 1s 3ms/step - loss: 0.0902 - accuracy: 0.1124 - val_loss: 0.0902 - val_accuracy: 0.1135\n",
      "Epoch 18/35\n",
      "300/300 [==============================] - 1s 4ms/step - loss: 0.0902 - accuracy: 0.1124 - val_loss: 0.0902 - val_accuracy: 0.1135\n",
      "Epoch 19/35\n",
      "300/300 [==============================] - 1s 4ms/step - loss: 0.0901 - accuracy: 0.1124 - val_loss: 0.0901 - val_accuracy: 0.1135\n",
      "Epoch 20/35\n",
      "300/300 [==============================] - ETA: 0s - loss: 0.0901 - accuracy: 0.11 - 1s 3ms/step - loss: 0.0901 - accuracy: 0.1124 - val_loss: 0.0901 - val_accuracy: 0.1135\n",
      "Epoch 21/35\n",
      "300/300 [==============================] - 1s 3ms/step - loss: 0.0901 - accuracy: 0.1124 - val_loss: 0.0901 - val_accuracy: 0.1135\n",
      "Epoch 22/35\n",
      "300/300 [==============================] - 1s 4ms/step - loss: 0.0901 - accuracy: 0.1124 - val_loss: 0.0900 - val_accuracy: 0.1135\n",
      "Epoch 23/35\n",
      "300/300 [==============================] - 1s 4ms/step - loss: 0.0900 - accuracy: 0.1124 - val_loss: 0.0900 - val_accuracy: 0.1135\n",
      "Epoch 24/35\n",
      "300/300 [==============================] - 1s 4ms/step - loss: 0.0900 - accuracy: 0.1124 - val_loss: 0.0900 - val_accuracy: 0.1135\n",
      "Epoch 25/35\n",
      "300/300 [==============================] - 1s 3ms/step - loss: 0.0900 - accuracy: 0.1124 - val_loss: 0.0900 - val_accuracy: 0.1135\n",
      "Epoch 26/35\n",
      "300/300 [==============================] - 1s 3ms/step - loss: 0.0900 - accuracy: 0.1124 - val_loss: 0.0900 - val_accuracy: 0.1135\n",
      "Epoch 27/35\n",
      "300/300 [==============================] - 1s 3ms/step - loss: 0.0900 - accuracy: 0.1124 - val_loss: 0.0900 - val_accuracy: 0.1135\n",
      "Epoch 28/35\n",
      "300/300 [==============================] - 1s 3ms/step - loss: 0.0900 - accuracy: 0.1124 - val_loss: 0.0900 - val_accuracy: 0.1135\n",
      "Epoch 29/35\n",
      "300/300 [==============================] - 1s 3ms/step - loss: 0.0900 - accuracy: 0.1124 - val_loss: 0.0900 - val_accuracy: 0.1135\n",
      "Epoch 30/35\n",
      "300/300 [==============================] - 1s 3ms/step - loss: 0.0900 - accuracy: 0.1124 - val_loss: 0.0900 - val_accuracy: 0.1135\n",
      "Epoch 31/35\n",
      "300/300 [==============================] - 1s 3ms/step - loss: 0.0900 - accuracy: 0.1124 - val_loss: 0.0900 - val_accuracy: 0.1135\n",
      "Epoch 32/35\n",
      "300/300 [==============================] - 1s 3ms/step - loss: 0.0900 - accuracy: 0.1124 - val_loss: 0.0900 - val_accuracy: 0.1135\n",
      "Epoch 33/35\n",
      "300/300 [==============================] - 1s 3ms/step - loss: 0.0900 - accuracy: 0.1124 - val_loss: 0.0900 - val_accuracy: 0.1135\n",
      "Epoch 34/35\n",
      "300/300 [==============================] - 1s 3ms/step - loss: 0.0900 - accuracy: 0.1124 - val_loss: 0.0900 - val_accuracy: 0.1135\n",
      "Epoch 35/35\n",
      "300/300 [==============================] - 1s 3ms/step - loss: 0.0900 - accuracy: 0.1124 - val_loss: 0.0900 - val_accuracy: 0.1135\n",
      "313/313 - 1s - loss: 0.0900 - accuracy: 0.1135 - 821ms/epoch - 3ms/step\n",
      "Baseline Error: 88.65%\n",
      "Baseline Accuracy: 11.35%\n"
     ]
    },
    {
     "data": {
      "image/png": "[encoded data removed]",
      "text/plain": [
       "<Figure size 432x288 with 2 Axes>"
      ]
     },
     "metadata": {
      "needs_background": "light"
     },
     "output_type": "display_data"
    }
   ],
   "source": [
    "\"\"\"\n",
    "Question 2\n",
    "Change the number of epochs to 35 and see if it has any effect (50 neurons)\n",
    "\"\"\"\n",
    "\n",
    "hidden_layers=50\n",
    "\n",
    "model = baseline_model()\n",
    "q2Model = model.fit(X_train, y_train, validation_data=(X_test, y_test), epochs=35, batch_size=200)\n",
    "scores = model.evaluate(X_test, y_test, verbose=2)\n",
    "print(\"Baseline Error: %.2f%%\" % (100-scores[1]*100))\n",
    "print(\"Baseline Accuracy: %.2f%%\" % (scores[1]*100))\n",
    "\n",
    "plt.subplot(211)\n",
    "plt.plot(q2Model.history['accuracy'])\n",
    "plt.plot(q2Model.history['val_loss'])\n",
    "plt.title('Model Accuracy')\n",
    "plt.xlabel('accurary')\n",
    "plt.ylabel('epoch')\n",
    "plt.legend(['train', 'test'], loc='lower right')\n",
    "\n",
    "plt.subplot(212)\n",
    "plt.plot(q2Model.history['loss'])\n",
    "plt.plot(q2Model.history['val_loss'])\n",
    "plt.title('Model Loss')\n",
    "plt.ylabel('loss')\n",
    "plt.xlabel('epoch')\n",
    "plt.legend(['train', 'test'], loc='upper right')\n",
    "plt.show()"
   ]
  },
  {
   "cell_type": "code",
   "execution_count": 6,
   "metadata": {},
   "outputs": [
    {
     "name": "stdout",
     "output_type": "stream",
     "text": [
      "Epoch 1/30\n",
      "300/300 [==============================] - 2s 4ms/step - loss: 0.2035 - accuracy: 0.1022 - val_loss: 0.1742 - val_accuracy: 0.1010\n",
      "Epoch 2/30\n",
      "300/300 [==============================] - 1s 3ms/step - loss: 0.1551 - accuracy: 0.1022 - val_loss: 0.1395 - val_accuracy: 0.1010\n",
      "Epoch 3/30\n",
      "300/300 [==============================] - 1s 3ms/step - loss: 0.1292 - accuracy: 0.1115 - val_loss: 0.1207 - val_accuracy: 0.1135\n",
      "Epoch 4/30\n",
      "300/300 [==============================] - 1s 4ms/step - loss: 0.1149 - accuracy: 0.1124 - val_loss: 0.1100 - val_accuracy: 0.1135\n",
      "Epoch 5/30\n",
      "300/300 [==============================] - 1s 3ms/step - loss: 0.1066 - accuracy: 0.1124 - val_loss: 0.1037 - val_accuracy: 0.1135\n",
      "Epoch 6/30\n",
      "300/300 [==============================] - 1s 3ms/step - loss: 0.1015 - accuracy: 0.1124 - val_loss: 0.0997 - val_accuracy: 0.1135\n",
      "Epoch 7/30\n",
      "300/300 [==============================] - 1s 3ms/step - loss: 0.0983 - accuracy: 0.1124 - val_loss: 0.0971 - val_accuracy: 0.1135\n",
      "Epoch 8/30\n",
      "300/300 [==============================] - 1s 3ms/step - loss: 0.0961 - accuracy: 0.1124 - val_loss: 0.0953 - val_accuracy: 0.1135\n",
      "Epoch 9/30\n",
      "300/300 [==============================] - 1s 4ms/step - loss: 0.0946 - accuracy: 0.1124 - val_loss: 0.0940 - val_accuracy: 0.1135\n",
      "Epoch 10/30\n",
      "300/300 [==============================] - 1s 3ms/step - loss: 0.0935 - accuracy: 0.1124 - val_loss: 0.0931 - val_accuracy: 0.1135\n",
      "Epoch 11/30\n",
      "300/300 [==============================] - 1s 4ms/step - loss: 0.0928 - accuracy: 0.1124 - val_loss: 0.0924 - val_accuracy: 0.1135\n",
      "Epoch 12/30\n",
      "300/300 [==============================] - 1s 3ms/step - loss: 0.0922 - accuracy: 0.1124 - val_loss: 0.0919 - val_accuracy: 0.1135\n",
      "Epoch 13/30\n",
      "300/300 [==============================] - 1s 3ms/step - loss: 0.0917 - accuracy: 0.1124 - val_loss: 0.0915 - val_accuracy: 0.1135\n",
      "Epoch 14/30\n",
      "300/300 [==============================] - 1s 4ms/step - loss: 0.0914 - accuracy: 0.1124 - val_loss: 0.0912 - val_accuracy: 0.1135\n",
      "Epoch 15/30\n",
      "300/300 [==============================] - 1s 3ms/step - loss: 0.0911 - accuracy: 0.1124 - val_loss: 0.0910 - val_accuracy: 0.1135\n",
      "Epoch 16/30\n",
      "300/300 [==============================] - 1s 5ms/step - loss: 0.0909 - accuracy: 0.1124 - val_loss: 0.0908 - val_accuracy: 0.1135\n",
      "Epoch 17/30\n",
      "300/300 [==============================] - 1s 4ms/step - loss: 0.0907 - accuracy: 0.1124 - val_loss: 0.0907 - val_accuracy: 0.1135\n",
      "Epoch 18/30\n",
      "300/300 [==============================] - 1s 3ms/step - loss: 0.0906 - accuracy: 0.1124 - val_loss: 0.0906 - val_accuracy: 0.1135\n",
      "Epoch 19/30\n",
      "300/300 [==============================] - 1s 3ms/step - loss: 0.0905 - accuracy: 0.1124 - val_loss: 0.0905 - val_accuracy: 0.1135\n",
      "Epoch 20/30\n",
      "300/300 [==============================] - 1s 3ms/step - loss: 0.0904 - accuracy: 0.1124 - val_loss: 0.0904 - val_accuracy: 0.1135\n",
      "Epoch 21/30\n",
      "300/300 [==============================] - 1s 3ms/step - loss: 0.0903 - accuracy: 0.1124 - val_loss: 0.0903 - val_accuracy: 0.1135\n",
      "Epoch 22/30\n",
      "300/300 [==============================] - 1s 3ms/step - loss: 0.0903 - accuracy: 0.1124 - val_loss: 0.0903 - val_accuracy: 0.1135\n",
      "Epoch 23/30\n",
      "300/300 [==============================] - 1s 3ms/step - loss: 0.0902 - accuracy: 0.1124 - val_loss: 0.0902 - val_accuracy: 0.1135\n",
      "Epoch 24/30\n",
      "300/300 [==============================] - 1s 3ms/step - loss: 0.0902 - accuracy: 0.1124 - val_loss: 0.0902 - val_accuracy: 0.1135\n",
      "Epoch 25/30\n",
      "300/300 [==============================] - 1s 3ms/step - loss: 0.0902 - accuracy: 0.1124 - val_loss: 0.0901 - val_accuracy: 0.1135\n",
      "Epoch 26/30\n",
      "300/300 [==============================] - 1s 3ms/step - loss: 0.0901 - accuracy: 0.1124 - val_loss: 0.0901 - val_accuracy: 0.1135\n",
      "Epoch 27/30\n",
      "300/300 [==============================] - 1s 3ms/step - loss: 0.0901 - accuracy: 0.1124 - val_loss: 0.0901 - val_accuracy: 0.1135\n",
      "Epoch 28/30\n",
      "300/300 [==============================] - 1s 3ms/step - loss: 0.0901 - accuracy: 0.1124 - val_loss: 0.0901 - val_accuracy: 0.1135\n",
      "Epoch 29/30\n",
      "300/300 [==============================] - 1s 3ms/step - loss: 0.0901 - accuracy: 0.1124 - val_loss: 0.0901 - val_accuracy: 0.1135\n",
      "Epoch 30/30\n",
      "300/300 [==============================] - 1s 3ms/step - loss: 0.0901 - accuracy: 0.1124 - val_loss: 0.0901 - val_accuracy: 0.1135\n",
      "313/313 - 1s - loss: 0.0901 - accuracy: 0.1135 - 633ms/epoch - 2ms/step\n",
      "Baseline Error: 88.65%\n",
      "Baseline Accuracy: 11.35%\n"
     ]
    },
    {
     "data": {
      "image/png": "[encoded data removed]",
      "text/plain": [
       "<Figure size 432x288 with 2 Axes>"
      ]
     },
     "metadata": {
      "needs_background": "light"
     },
     "output_type": "display_data"
    }
   ],
   "source": [
    "\"\"\"\n",
    "Question 3: Add one more layer to the designed neural network and see the result (This layer contains 25 nodes). Draw graphs and compare accuracies.\n",
    "\"\"\"\n",
    "\n",
    "hidden_layers = 50\n",
    "new_hidden_layers = 25 \n",
    "def baseline_model():\n",
    "    model = Sequential()\n",
    "    model.add(Dense(hidden_layers, input_dim=num_pixels, kernel_initializer = 'normal', activation='sigmoid'))\n",
    "    model.add(Dense(hidden_layers, kernel_initializer = 'normal', activation='sigmoid'))\n",
    "    model.add(Dense(new_hidden_layers, kernel_initializer = 'normal', activation='sigmoid'))\n",
    "    model.add(Dense(num_classes, kernel_initializer = 'normal', activation='sigmoid'))\n",
    "    model.compile(loss='mean_squared_error', optimizer='sgd', metrics=['accuracy'])\n",
    "    return model\n",
    "\n",
    "model = baseline_model()\n",
    "q3Model = model.fit(X_train, y_train, validation_data=(X_test, y_test), epochs=30, batch_size=200)\n",
    "scores = model.evaluate(X_test, y_test, verbose=2)\n",
    "print(\"Baseline Error: %.2f%%\" % (100-scores[1]*100))\n",
    "print(\"Baseline Accuracy: %.2f%%\" % (scores[1]*100))\n",
    "\n",
    "plt.subplot(211)\n",
    "plt.plot(q3Model.history['accuracy'])\n",
    "plt.plot(q3Model.history['val_loss'])\n",
    "plt.title('Model Accuracy')\n",
    "plt.xlabel('accurary')\n",
    "plt.ylabel('epoch')\n",
    "plt.legend(['train', 'test'], loc='lower right')\n",
    "\n",
    "plt.subplot(212)\n",
    "plt.plot(q3Model.history['loss'])\n",
    "plt.plot(q3Model.history['val_loss'])\n",
    "plt.title('Model Loss')\n",
    "plt.ylabel('loss')\n",
    "plt.xlabel('epoch')\n",
    "plt.legend(['train', 'test'], loc='upper right')\n",
    "plt.show()"
   ]
  }
 ],
 "metadata": {
  "interpreter": {
   "hash": "f45702145ecb8b4a6bb9bb75e58f11fa68b56936ae7327e83cce95b04c1b2c74"
  },
  "kernelspec": {
   "display_name": "Python 3.9.9 64-bit ('venv': venv)",
   "language": "python",
   "name": "python3"
  },
  "language_info": {
   "codemirror_mode": {
    "name": "ipython",
    "version": 3
   },
   "file_extension": ".py",
   "mimetype": "text/x-python",
   "name": "python",
   "nbconvert_exporter": "python",
   "pygments_lexer": "ipython3",
   "version": "3.9.9"
  },
  "orig_nbformat": 4
 },
 "nbformat": 4,
 "nbformat_minor": 2
}
